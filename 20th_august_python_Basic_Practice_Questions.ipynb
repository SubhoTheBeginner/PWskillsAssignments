{
 "cells": [
  {
   "cell_type": "markdown",
   "id": "b778bb11",
   "metadata": {},
   "source": [
    "## TOPIC: String Based Assignment Problem"
   ]
  },
  {
   "cell_type": "markdown",
   "id": "204f57a3",
   "metadata": {},
   "source": [
    "### 1. Write a program to reverse a string."
   ]
  },
  {
   "cell_type": "code",
   "execution_count": 33,
   "id": "0629acd7",
   "metadata": {},
   "outputs": [
    {
     "name": "stdout",
     "output_type": "stream",
     "text": [
      "!gninrom dooG\n"
     ]
    }
   ],
   "source": [
    "s= 'Good morning!'\n",
    "\n",
    "reverse_s=s[::-1] #reversing the string using backward indexing\n",
    "print(reverse_s)"
   ]
  },
  {
   "cell_type": "markdown",
   "id": "6646265a",
   "metadata": {},
   "source": [
    "### 2. Check if a string is a palindrome."
   ]
  },
  {
   "cell_type": "code",
   "execution_count": 35,
   "id": "7556a3a1",
   "metadata": {},
   "outputs": [
    {
     "name": "stdout",
     "output_type": "stream",
     "text": [
      "string is palindrome\n"
     ]
    }
   ],
   "source": [
    "s= 'Wow'\n",
    "string=s.lower() #making all characters lower to check perfectly\n",
    "\n",
    "#removing spaces and punctuation\n",
    "string = ' '.join( i for i in string if i.isalnum())\n",
    "\n",
    "if(string==string[::-1]): #reversing the string using backward indexing \n",
    "    print(\"string is palindrome\")\n",
    "else:\n",
    "    print(\"string is not palindrome\")\n",
    "\n",
    "    "
   ]
  },
  {
   "cell_type": "markdown",
   "id": "c2406fd5",
   "metadata": {},
   "source": [
    "### 3. Convert a string to uppercase."
   ]
  },
  {
   "cell_type": "code",
   "execution_count": 36,
   "id": "fe4e2878",
   "metadata": {},
   "outputs": [
    {
     "name": "stdout",
     "output_type": "stream",
     "text": [
      "HELLO , GOOD MORNING!\n"
     ]
    }
   ],
   "source": [
    "str = 'Hello , Good moRNING!'\n",
    "uppercase_str = str.upper() #str.upper() function makes all character of a string to uppercase\n",
    "\n",
    "print(uppercase_str)"
   ]
  },
  {
   "cell_type": "markdown",
   "id": "fcffc4bc",
   "metadata": {},
   "source": [
    "### 4. Convert a string to lowercase."
   ]
  },
  {
   "cell_type": "code",
   "execution_count": 37,
   "id": "18d8965d",
   "metadata": {},
   "outputs": [
    {
     "name": "stdout",
     "output_type": "stream",
     "text": [
      "hello , good morning!\n"
     ]
    }
   ],
   "source": [
    "str = 'Hello , Good moRNING!'\n",
    "lowercase_str = str.lower() #str.lower() function makes all character of a string to lovercase\n",
    "\n",
    "print(lowercase_str)"
   ]
  },
  {
   "cell_type": "markdown",
   "id": "7d3d4e65",
   "metadata": {},
   "source": [
    "### 5. Count the number of vowels in a string."
   ]
  },
  {
   "cell_type": "code",
   "execution_count": 1,
   "id": "3d1f2fc1",
   "metadata": {},
   "outputs": [
    {
     "name": "stdout",
     "output_type": "stream",
     "text": [
      "Numbers of vowels in this sentence is : 3\n"
     ]
    }
   ],
   "source": [
    "s = str(input(\"Enter a sentence : \"))\n",
    "v_count =0 #for counting vowels\n",
    "\n",
    "for i in s :\n",
    "    if(i=='a' or i=='e' or i=='i' or i=='o' or i=='u' or i=='A' or i=='E' or i=='I' or i=='O' or i=='U'):\n",
    "        v_count += 1 #increases the V-count value by 1, whenever previous condition fulfilled\n",
    "    \n",
    "print('Numbers of vowels in this sentence is :', v_count)"
   ]
  },
  {
   "cell_type": "markdown",
   "id": "aba5aba5",
   "metadata": {},
   "source": [
    "### 6. Count the number of consonants in a string."
   ]
  },
  {
   "cell_type": "code",
   "execution_count": 2,
   "id": "49b77347",
   "metadata": {},
   "outputs": [
    {
     "name": "stdout",
     "output_type": "stream",
     "text": [
      "Numbers of consonants in this sentence is : 5\n"
     ]
    }
   ],
   "source": [
    "s = str(input(\"Enter a sentence : \"))\n",
    "v_count =0 #for counting consonants\n",
    "\n",
    "for i in s :\n",
    "    if(i != 'a' and i!='e' and i!='i' and i!='o' and i!='u' and i!='A' and i!='E' and i!='I' and i!='O' and i!='U' and i!=' ' and ord(i) >= 65 and ord(i)<=122):\n",
    "            #ord(i) >= 65 and ord(i)<=122 makes sure that it only counts the consonants and not any special characters\n",
    "            #65 is ASCII value of A, and 122is ASCII value of z.\n",
    "        v_count += 1   #increases the V-count value by 1, whenever previous condition fulfilled\n",
    "    \n",
    "print('Numbers of consonants in this sentence is :', v_count)"
   ]
  },
  {
   "cell_type": "markdown",
   "id": "5e383914",
   "metadata": {},
   "source": [
    "### 7. Remove all whitespaces from a string."
   ]
  },
  {
   "cell_type": "code",
   "execution_count": 3,
   "id": "9c63aaea",
   "metadata": {},
   "outputs": [
    {
     "name": "stdout",
     "output_type": "stream",
     "text": [
      "HelloPWSkillsXINeuron!\n"
     ]
    }
   ],
   "source": [
    "str= \"Hello PWSkills X INeuron!\"\n",
    "\n",
    "str2=str.replace(' ','') #replacing every whitespace with nothing to remove the spaces\n",
    "print(str2)"
   ]
  },
  {
   "cell_type": "markdown",
   "id": "6cb47d0a",
   "metadata": {},
   "source": [
    "### 8. Find the length of a string without using the `len()` function."
   ]
  },
  {
   "cell_type": "code",
   "execution_count": 4,
   "id": "cf0cc271",
   "metadata": {},
   "outputs": [
    {
     "name": "stdout",
     "output_type": "stream",
     "text": [
      "Length of the string is :  14\n"
     ]
    }
   ],
   "source": [
    "str = 'Subhodip Ghosh'\n",
    "length=0\n",
    "\n",
    "for i in str:\n",
    "    length += 1 #increasing value by 1 for each characters\n",
    "\n",
    "print('Length of the string is : ',length)"
   ]
  },
  {
   "cell_type": "markdown",
   "id": "479d4824",
   "metadata": {},
   "source": [
    "### 9. Check if a string contains a specific word."
   ]
  },
  {
   "cell_type": "code",
   "execution_count": 5,
   "id": "26df90a7",
   "metadata": {},
   "outputs": [
    {
     "name": "stdout",
     "output_type": "stream",
     "text": [
      "Yes, it contains.\n"
     ]
    }
   ],
   "source": [
    "s= input('Enter a string : ')\n",
    "string = s.lower() #if you want that case sensitivity doesn't create any issue\n",
    "\n",
    "w = input('Enter your word : ')\n",
    "word= w.lower() #if you want that case sensitivity doesn't create any issue\n",
    "\n",
    "if word in string :    #checking the word in the string\n",
    "    print('Yes, it contains.')\n",
    "else:\n",
    "    print(\"No, it does't contains\")"
   ]
  },
  {
   "cell_type": "markdown",
   "id": "8deb4628",
   "metadata": {},
   "source": [
    "### 10. Replace a word in a string with another word."
   ]
  },
  {
   "cell_type": "code",
   "execution_count": 6,
   "id": "3e2a271a",
   "metadata": {},
   "outputs": [
    {
     "name": "stdout",
     "output_type": "stream",
     "text": [
      "Before replace :  Emilia Clarke is my crush\n",
      "After replace :  Emilia Clarke is everyone's crush\n"
     ]
    }
   ],
   "source": [
    "string = 'Emilia Clarke is my crush'\n",
    "print('Before replace : ',string)\n",
    "\n",
    "r_string=string.replace(\"my\",\"everyone's\") #replacing 'my' with \"everyone's\"\n",
    "print('After replace : ',r_string)"
   ]
  },
  {
   "cell_type": "markdown",
   "id": "f478c67c",
   "metadata": {},
   "source": [
    "### 11. Count the occurrences of a word in a string."
   ]
  },
  {
   "cell_type": "code",
   "execution_count": 9,
   "id": "726b6574",
   "metadata": {},
   "outputs": [
    {
     "name": "stdout",
     "output_type": "stream",
     "text": [
      "8\n"
     ]
    }
   ],
   "source": [
    "s= 'This is is is is Is iS IS Subh.'\n",
    "string=s.lower() #if you want that case sensitivity doesn't create any issue\n",
    "\n",
    "w='is'\n",
    "word= w.lower() #if you want that case sensitivity doesn't create any issue\n",
    "\n",
    "print(string.count(word)) #count() , counts 'word' in 'string' and prints the number of occurrences \n",
    "\n"
   ]
  },
  {
   "cell_type": "markdown",
   "id": "7c2aa9a6",
   "metadata": {},
   "source": [
    "### 12. Find the first occurrence of a word in a string."
   ]
  },
  {
   "cell_type": "code",
   "execution_count": 10,
   "id": "8d6e46dc",
   "metadata": {},
   "outputs": [
    {
     "name": "stdout",
     "output_type": "stream",
     "text": [
      "The first occurrence of \" is \" is at index:  9\n"
     ]
    }
   ],
   "source": [
    "s='her name is Riya, who is also known as Rai.'\n",
    "string=s.lower() #if you want that case sensitivity doesn't create any issue\n",
    "w='is'\n",
    "word= w.lower() #if you want that case sensitivity doesn't create any issue\n",
    "\n",
    "print('The first occurrence of \"',word,'\" is at index: ', string.find(word)) #find(), finds the first occurrence of the word from the string and prints the index "
   ]
  },
  {
   "cell_type": "markdown",
   "id": "d51fb2bd",
   "metadata": {},
   "source": [
    "### 13. Find the last occurrence of a word in a string."
   ]
  },
  {
   "cell_type": "code",
   "execution_count": 11,
   "id": "8e8d651b",
   "metadata": {},
   "outputs": [
    {
     "name": "stdout",
     "output_type": "stream",
     "text": [
      "The last occurrence of \" is \" is at index:  22\n"
     ]
    }
   ],
   "source": [
    "s='her name is Riya, who is also known as Rai.'\n",
    "#if you want that case sensitivity doesn't create any issue\n",
    "string=s.lower() \n",
    "\n",
    "w='is'\n",
    "#if you want that case sensitivity doesn't create any issue\n",
    "word= w.lower()\n",
    "\n",
    "#rfind(), finds the last occurrence of the word from the string and prints the index  \n",
    "print('The last occurrence of \"',word,'\" is at index: ', string.rfind(word)) "
   ]
  },
  {
   "cell_type": "markdown",
   "id": "a6d10751",
   "metadata": {},
   "source": [
    "### 14. Split a string into a list of words."
   ]
  },
  {
   "cell_type": "code",
   "execution_count": 12,
   "id": "7e48e814",
   "metadata": {},
   "outputs": [
    {
     "name": "stdout",
     "output_type": "stream",
     "text": [
      "['hello,', 'good', 'morning!']\n"
     ]
    }
   ],
   "source": [
    "string= \"hello, good morning!\"\n",
    "\n",
    "#string.split(' '), splits the string whenever a ' ' occurs\n",
    "str_list = list(string.split(' '))\n",
    "print(str_list)"
   ]
  },
  {
   "cell_type": "markdown",
   "id": "35112498",
   "metadata": {},
   "source": [
    "### 15.Join a list of words into a string."
   ]
  },
  {
   "cell_type": "code",
   "execution_count": 13,
   "id": "627a8513",
   "metadata": {
    "scrolled": true
   },
   "outputs": [
    {
     "name": "stdout",
     "output_type": "stream",
     "text": [
      "this is a pwskills course \n"
     ]
    }
   ],
   "source": [
    "list = ['this','is','a','pwskills','course']\n",
    "\n",
    "string = ''\n",
    "\n",
    "#this for loop will add every words of the list to a string\n",
    "for i in list:  \n",
    "    string =string + i + ' '\n",
    "\n",
    "print(string)\n",
    "\n",
    "#or we can simply use this join() function\n",
    "#print(' '.join(list))"
   ]
  },
  {
   "cell_type": "markdown",
   "id": "fbfecb2a",
   "metadata": {},
   "source": [
    "### 16. Convert a string where words are separated by spaces to one where words are separated by underscores."
   ]
  },
  {
   "cell_type": "code",
   "execution_count": 14,
   "id": "3212b529",
   "metadata": {},
   "outputs": [
    {
     "name": "stdout",
     "output_type": "stream",
     "text": [
      "Before converting :  hello this is subh\n",
      "After converting :  hello_this_is_subh\n"
     ]
    }
   ],
   "source": [
    "string1 = 'hello this is subh'\n",
    "print('Before converting : ',string1)\n",
    "\n",
    "#replacing ' ' by \"_\"\n",
    "string2=string1.replace(' ','_') \n",
    "print('After converting : ',string2)"
   ]
  },
  {
   "cell_type": "markdown",
   "id": "0f3647c9",
   "metadata": {},
   "source": [
    "17. Check if a string starts with a specific word or phrase."
   ]
  },
  {
   "cell_type": "code",
   "execution_count": 4,
   "id": "ee2820aa",
   "metadata": {},
   "outputs": [
    {
     "name": "stdout",
     "output_type": "stream",
     "text": [
      "yes\n"
     ]
    }
   ],
   "source": [
    "string= 'hello sir, how are you?'\n",
    "\n",
    "start='hello sir'\n",
    "\n",
    "#startswith() method checks if a string starts with a specific word or phrase\n",
    "if(string.startswith(start)):\n",
    "    print(\"yes\")\n",
    "else:\n",
    "    print('no')"
   ]
  },
  {
   "cell_type": "markdown",
   "id": "865199f8",
   "metadata": {},
   "source": [
    "18.Check if a string ends with a specific word or phrase."
   ]
  },
  {
   "cell_type": "code",
   "execution_count": 9,
   "id": "973c8d63",
   "metadata": {},
   "outputs": [
    {
     "name": "stdout",
     "output_type": "stream",
     "text": [
      "yes\n"
     ]
    }
   ],
   "source": [
    "string= 'hello sir, how are you?'\n",
    "\n",
    "end='you?'\n",
    "\n",
    "#endswith() method checks if a string ends with a specific word or phrase\n",
    "if(string.endswith(end)):\n",
    "    print(\"yes\")\n",
    "else:\n",
    "    print('no')"
   ]
  },
  {
   "cell_type": "markdown",
   "id": "36740ed2",
   "metadata": {},
   "source": [
    "19. Convert a string to title case (e.g., \"hello world\" to \"Hello World\")."
   ]
  },
  {
   "cell_type": "code",
   "execution_count": 8,
   "id": "e9916e96",
   "metadata": {},
   "outputs": [
    {
     "name": "stdout",
     "output_type": "stream",
     "text": [
      "actual string:  good night\n",
      "Title case string:  Good Night\n"
     ]
    }
   ],
   "source": [
    "string='good night'\n",
    "print('actual string: ',string)\n",
    "\n",
    "print(\"Title case string: \",string.title())"
   ]
  },
  {
   "cell_type": "markdown",
   "id": "e75b16f5",
   "metadata": {},
   "source": [
    "20. Find the longest word in a string."
   ]
  },
  {
   "cell_type": "code",
   "execution_count": 17,
   "id": "375b94a5",
   "metadata": {},
   "outputs": [
    {
     "name": "stdout",
     "output_type": "stream",
     "text": [
      "Longest word is :  Engineer\n"
     ]
    }
   ],
   "source": [
    "string='I want to be a Data Science Engineer'\n",
    "l1=string.split()\n",
    "\n",
    "#max(), finds the maximum value in base of length,from the list l1\n",
    "longest= max(l1,key=len)\n",
    "print('Longest word is : ',longest)"
   ]
  },
  {
   "cell_type": "markdown",
   "id": "ac6d7e83",
   "metadata": {},
   "source": [
    "21. Find the shortest word in a string."
   ]
  },
  {
   "cell_type": "code",
   "execution_count": 19,
   "id": "607bd698",
   "metadata": {},
   "outputs": [
    {
     "name": "stdout",
     "output_type": "stream",
     "text": [
      "shortest word is :  I\n"
     ]
    }
   ],
   "source": [
    "string='I want to be a Data Science Engineer'\n",
    "l1=string.split()\n",
    "\n",
    "#min(), finds the minimum value in base of length,from the list l1\n",
    "shortest= min(l1,key=len)\n",
    "print('shortest word is : ',shortest)"
   ]
  },
  {
   "cell_type": "markdown",
   "id": "ae21e242",
   "metadata": {},
   "source": [
    "22. Reverse the order of words in a string."
   ]
  },
  {
   "cell_type": "code",
   "execution_count": 20,
   "id": "2b3b14d4",
   "metadata": {},
   "outputs": [
    {
     "name": "stdout",
     "output_type": "stream",
     "text": [
      "subh am I\n"
     ]
    }
   ],
   "source": [
    "string='I am subh'\n",
    "\n",
    "#splitting the string by ' '\n",
    "words=string.split(' ') \n",
    "rev_str=[]\n",
    "\n",
    "#inserting every words to another list,rev_str from list- \"words\"\n",
    "for word in words:\n",
    "    rev_str.insert(0,word) #'''['I']\n",
    "                           #    ['am', 'I']\n",
    "                           #    ['subh', 'am', 'I']'''\n",
    "                                \n",
    "#joining the list elements by a ' '\n",
    "print(' '.join(rev_str)) "
   ]
  },
  {
   "cell_type": "markdown",
   "id": "03ddc528",
   "metadata": {},
   "source": [
    "23. Check if a string is alphanumeric."
   ]
  },
  {
   "cell_type": "code",
   "execution_count": 27,
   "id": "a50bd4db",
   "metadata": {},
   "outputs": [
    {
     "name": "stdout",
     "output_type": "stream",
     "text": [
      "False\n",
      "True\n"
     ]
    }
   ],
   "source": [
    "string='Abc123@$'\n",
    "string2='Abc123'\n",
    "\n",
    "#isalnum() checks if a string is alphanumeric or not\n",
    "print(string.isalnum())\n",
    "print(string2.isalnum())"
   ]
  },
  {
   "cell_type": "markdown",
   "id": "bb2ab4e3",
   "metadata": {},
   "source": [
    "24. Extract all digits from a string."
   ]
  },
  {
   "cell_type": "code",
   "execution_count": 9,
   "id": "33e4221c",
   "metadata": {},
   "outputs": [
    {
     "name": "stdout",
     "output_type": "stream",
     "text": [
      "3 7 2 3 9 "
     ]
    }
   ],
   "source": [
    "string='Subhodip37239'\n",
    "\n",
    "for i in string:\n",
    "    if(i>='0') and (i<='9'):\n",
    "        print(i,end=' ')"
   ]
  },
  {
   "cell_type": "markdown",
   "id": "763792b4",
   "metadata": {},
   "source": [
    "25. Extract all alphabets from a string."
   ]
  },
  {
   "cell_type": "code",
   "execution_count": 8,
   "id": "c11b5510",
   "metadata": {},
   "outputs": [
    {
     "name": "stdout",
     "output_type": "stream",
     "text": [
      "S u b h o d i p "
     ]
    }
   ],
   "source": [
    "string='Subhodip37239'\n",
    "\n",
    "for i in string:\n",
    "    #ord(i) retusrns the ASCII values\n",
    "    if(ord(i)>=65) and (ord(i)<=122):\n",
    "        print(i,end=' ')"
   ]
  },
  {
   "cell_type": "markdown",
   "id": "c1586e55",
   "metadata": {},
   "source": [
    "26. Count the number of uppercase letters in a string."
   ]
  },
  {
   "cell_type": "code",
   "execution_count": 11,
   "id": "12c93f79",
   "metadata": {},
   "outputs": [
    {
     "name": "stdout",
     "output_type": "stream",
     "text": [
      "8\n"
     ]
    }
   ],
   "source": [
    "string='STYLISH Man'\n",
    "count=0\n",
    "\n",
    "for i in string:\n",
    "    #ord(i) retusrns the ASCII values\n",
    "    if(ord(i)>=65) and (ord(i)<=90):\n",
    "        count+=1\n",
    "print(count)"
   ]
  },
  {
   "cell_type": "markdown",
   "id": "9dcd031d",
   "metadata": {},
   "source": [
    "27. Count the number of lowercase letters in a string."
   ]
  },
  {
   "cell_type": "code",
   "execution_count": 12,
   "id": "6a7e3bdf",
   "metadata": {},
   "outputs": [
    {
     "name": "stdout",
     "output_type": "stream",
     "text": [
      "2\n"
     ]
    }
   ],
   "source": [
    "string='STYLISH Man'\n",
    "count=0\n",
    "\n",
    "for i in string:\n",
    "    #ord(i) retusrns the ASCII values\n",
    "    if(ord(i)>=97) and (ord(i)<=122):\n",
    "        count+=1\n",
    "print(count)"
   ]
  },
  {
   "cell_type": "markdown",
   "id": "910ee1c5",
   "metadata": {},
   "source": [
    "28. Swap the case of each character in a string."
   ]
  },
  {
   "cell_type": "code",
   "execution_count": 25,
   "id": "539cb436",
   "metadata": {},
   "outputs": [
    {
     "name": "stdout",
     "output_type": "stream",
     "text": [
      "stylish mAN"
     ]
    }
   ],
   "source": [
    "string='STYLISH Man'\n",
    "new=''\n",
    "for i in string:\n",
    "    #ord(i) retusrns the ASCII values\n",
    "    if(ord(i)>=97) and (ord(i)<=122):\n",
    "        print(i.upper(),end='')\n",
    "        \n",
    "    elif(ord(i)>=65) and (ord(i)<=90):\n",
    "        print(i.lower(),end='')\n",
    "        \n",
    "    else:\n",
    "        print(i,end='')"
   ]
  },
  {
   "cell_type": "markdown",
   "id": "7eba2d0e",
   "metadata": {},
   "source": [
    "29. Remove a specific word from a string."
   ]
  },
  {
   "cell_type": "code",
   "execution_count": 47,
   "id": "e6354594",
   "metadata": {},
   "outputs": [
    {
     "name": "stdout",
     "output_type": "stream",
     "text": [
      "Sid is a genius popular man "
     ]
    }
   ],
   "source": [
    "string='Sid is a genius and popular man'\n",
    "words=string.split(' ')#making a list of words\n",
    "\n",
    "w='and'\n",
    "\n",
    "for word in words:\n",
    "    if(word!=w):\n",
    "        print(word,end=' ')\n",
    "    else:\n",
    "        word.replace(word,'')#replacing the word with nothing \n",
    "    "
   ]
  },
  {
   "cell_type": "markdown",
   "id": "f9902b33",
   "metadata": {},
   "source": [
    "30. Check if a string is a valid email address."
   ]
  },
  {
   "cell_type": "code",
   "execution_count": 3,
   "id": "a907b72f",
   "metadata": {},
   "outputs": [
    {
     "name": "stdout",
     "output_type": "stream",
     "text": [
      "True\n",
      "False\n"
     ]
    }
   ],
   "source": [
    "import re  #importing regular expression module\n",
    "  \n",
    "def validate_email(email):  \n",
    "    #matches the email with conditions of a valid email.\n",
    "    if re.match(r\"[^@]+@[^@]+\\.[^@]+\", email):  \n",
    "        return True  \n",
    "    return False  \n",
    "  \n",
    "email = \"example@domain.com\"  \n",
    "email2 = \"invalid_email\"\n",
    "print(validate_email(email))\n",
    "print(validate_email(email2))  "
   ]
  },
  {
   "cell_type": "markdown",
   "id": "8159660c",
   "metadata": {},
   "source": [
    "31. Extract the username from an email address string."
   ]
  },
  {
   "cell_type": "code",
   "execution_count": 5,
   "id": "2cc0c8d2",
   "metadata": {},
   "outputs": [
    {
     "name": "stdout",
     "output_type": "stream",
     "text": [
      "subhodip\n",
      "yash5473\n"
     ]
    }
   ],
   "source": [
    "def extract_username(email):\n",
    "    username = email.split('@')[0]  # Splitting the email at \"@\" and taking the first part\n",
    "    return username\n",
    "\n",
    "email1 = \"subhodip@email.com\"\n",
    "email2 = \"yash5473@email.com\"\n",
    "\n",
    "print(extract_username(email1))\n",
    "print(extract_username(email2))"
   ]
  },
  {
   "cell_type": "markdown",
   "id": "9719416b",
   "metadata": {},
   "source": [
    "32. Extract the domain name from an email address string."
   ]
  },
  {
   "cell_type": "code",
   "execution_count": 7,
   "id": "f0a791d8",
   "metadata": {},
   "outputs": [
    {
     "name": "stdout",
     "output_type": "stream",
     "text": [
      "email.com\n",
      "yahoo.com\n"
     ]
    }
   ],
   "source": [
    "def extract_domain_name(email):\n",
    "    domain_name = email.split('@')[1]  # Splitting the email address at \"@\" and taking the second part\n",
    "    return domain_name\n",
    "\n",
    "email1 = \"subhodip@email.com\"\n",
    "email2 = \"yash5473@yahoo.com\"\n",
    "\n",
    "print(extract_domain_name(email1))\n",
    "print(extract_domain_name(email2))"
   ]
  },
  {
   "cell_type": "markdown",
   "id": "f0a519ed",
   "metadata": {},
   "source": [
    "33. Replace multiple spaces in a string with a single space."
   ]
  },
  {
   "cell_type": "code",
   "execution_count": 10,
   "id": "134b0896",
   "metadata": {},
   "outputs": [
    {
     "name": "stdout",
     "output_type": "stream",
     "text": [
      "Hello my name is subhodip\n"
     ]
    }
   ],
   "source": [
    "def replace(string):\n",
    "    new_string = ' '.join(string.split())  # Splitting the string at spaces and then joining using a single space\n",
    "    return new_string\n",
    "\n",
    "string = \"Hello     my   name     is     subhodip\"\n",
    "print(replace(string))"
   ]
  },
  {
   "cell_type": "markdown",
   "id": "6b44ce99",
   "metadata": {},
   "source": [
    "34. Check if a string is a valid URL."
   ]
  },
  {
   "cell_type": "code",
   "execution_count": 4,
   "id": "08eca27e",
   "metadata": {},
   "outputs": [
    {
     "name": "stdout",
     "output_type": "stream",
     "text": [
      "True\n",
      "False\n"
     ]
    }
   ],
   "source": [
    "from urllib.parse import urlparse\n",
    "\n",
    "def is_valid_URL(URL):\n",
    "    try:\n",
    "        r = urlparse(URL)\n",
    "        return all([r.scheme, r.netloc])  # Checkimg if both scheme and netloc are present or not\n",
    "    except ValueError:\n",
    "        return False\n",
    "\n",
    "# Example URLs\n",
    "URL1 = \"https://www.GOOGLE.com\"\n",
    "URL2 = \"dhidfb.com\"\n",
    "r1 = is_valid_URL(URL1)\n",
    "r2 = is_valid_URL(URL2)\n",
    "print(r1)  \n",
    "print(r2) "
   ]
  },
  {
   "cell_type": "markdown",
   "id": "de15cf76",
   "metadata": {},
   "source": [
    "35. Extract the protocol (http or https) from a URL string."
   ]
  },
  {
   "cell_type": "code",
   "execution_count": 5,
   "id": "1a379043",
   "metadata": {},
   "outputs": [
    {
     "name": "stdout",
     "output_type": "stream",
     "text": [
      "Protocol 1: https\n",
      "Protocol 2: http\n",
      "Protocol 3: ftp\n"
     ]
    }
   ],
   "source": [
    "def extract_protocol(url):\n",
    "    # Find the index of the first occurrence of \"://\"\n",
    "    protocol_end = url.find(\"://\")\n",
    "\n",
    "    if protocol_end != -1:\n",
    "        # Extract the protocol from the URL\n",
    "        protocol = url[:protocol_end]\n",
    "        return protocol\n",
    "    else:\n",
    "        return None\n",
    "\n",
    "# Example URL strings\n",
    "url1 = \"https://www.example.com\"\n",
    "url2 = \"http://google.com\"\n",
    "url3 = \"ftp://ftp.example.com\"\n",
    "\n",
    "# Extract protocols\n",
    "protocol1 = extract_protocol(url1)\n",
    "protocol2 = extract_protocol(url2)\n",
    "protocol3 = extract_protocol(url3)\n",
    "\n",
    "# Print extracted protocols\n",
    "print(\"Protocol 1:\", protocol1)\n",
    "print(\"Protocol 2:\", protocol2)\n",
    "print(\"Protocol 3:\", protocol3)"
   ]
  },
  {
   "cell_type": "markdown",
   "id": "28827eb2",
   "metadata": {},
   "source": [
    "36. Find the frequency of each character in a string."
   ]
  },
  {
   "cell_type": "code",
   "execution_count": 11,
   "id": "5badc10c",
   "metadata": {},
   "outputs": [
    {
     "name": "stdout",
     "output_type": "stream",
     "text": [
      "Enter a string: hello world, how are you\n",
      "Character: h Frequency is : 2\n",
      "Character: e Frequency is : 2\n",
      "Character: l Frequency is : 3\n",
      "Character: o Frequency is : 4\n",
      "Character:   Frequency is : 4\n",
      "Character: w Frequency is : 2\n",
      "Character: r Frequency is : 2\n",
      "Character: d Frequency is : 1\n",
      "Character: , Frequency is : 1\n",
      "Character: a Frequency is : 1\n",
      "Character: y Frequency is : 1\n",
      "Character: u Frequency is : 1\n"
     ]
    }
   ],
   "source": [
    "def character_frequency(string):\n",
    "    frequency = {}\n",
    "\n",
    "    for char in string:\n",
    "        if char in frequency:\n",
    "            frequency[char] += 1  # Increments the frequency count if the character is already in the dictionary\n",
    "        else:\n",
    "            frequency[char] = 1   # Initializes the frequency count to 1 if the character is not in the dictionary\n",
    "\n",
    "    return frequency\n",
    "\n",
    "\n",
    "input_str = input(\"Enter a string: \")\n",
    "\n",
    "# Calculate character frequencies\n",
    "char_freq = character_frequency(input_str)\n",
    "\n",
    "# Print character frequencies\n",
    "for char, freq in char_freq.items():\n",
    "    print(\"Character:\" ,char, 'Frequency is :', freq)"
   ]
  },
  {
   "cell_type": "markdown",
   "id": "bd305041",
   "metadata": {},
   "source": [
    "37. Remove all punctuation from a string."
   ]
  },
  {
   "cell_type": "code",
   "execution_count": 12,
   "id": "85bfa2e6",
   "metadata": {},
   "outputs": [
    {
     "name": "stdout",
     "output_type": "stream",
     "text": [
      "Enter a string:hello world, how are you?\n",
      "Original string: hello world, how are you?\n",
      "Cleaned string: hello world how are you\n"
     ]
    }
   ],
   "source": [
    "import string\n",
    "\n",
    "def remove_punctuation(input_string):\n",
    "    # Create a translation table to remove punctuation\n",
    "    translator = str.maketrans(\"\", \"\", string.punctuation)\n",
    "\n",
    "    # Use the translation table to remove punctuation from the input string\n",
    "    clean_string = input_string.translate(translator)\n",
    "\n",
    "    return clean_string\n",
    "\n",
    "# Example string with punctuation\n",
    "input_str = input('Enter a string:')\n",
    "\n",
    "# Remove punctuation\n",
    "cleaned_str = remove_punctuation(input_str)\n",
    "\n",
    "# Print the cleaned string\n",
    "print(\"Original string:\", input_str)\n",
    "print(\"Cleaned string:\", cleaned_str)"
   ]
  },
  {
   "cell_type": "markdown",
   "id": "5817b847",
   "metadata": {},
   "source": [
    "38. Check if a string contains only digits."
   ]
  },
  {
   "cell_type": "code",
   "execution_count": 15,
   "id": "41676c5f",
   "metadata": {},
   "outputs": [
    {
     "name": "stdout",
     "output_type": "stream",
     "text": [
      "'49843834' contains only digits: True\n",
      "'subho387' contains only digits: False\n",
      "'4545632.78923' contains only digits: False\n"
     ]
    }
   ],
   "source": [
    "def contains_only_digits(input_string):\n",
    "    return input_string.isdigit() # Check if all characters in the string are digits\n",
    "\n",
    "# Example strings\n",
    "string1 = \"49843834\"\n",
    "string2 = \"subho387\"\n",
    "string3 = \"4545632.78923\"\n",
    "\n",
    "# Check if strings contain only digits\n",
    "result1 = contains_only_digits(string1)\n",
    "result2 = contains_only_digits(string2)\n",
    "result3 = contains_only_digits(string3)\n",
    "\n",
    "# Print the results\n",
    "print(f\"'{string1}' contains only digits:\", result1)\n",
    "print(f\"'{string2}' contains only digits:\", result2)\n",
    "print(f\"'{string3}' contains only digits:\", result3)"
   ]
  },
  {
   "cell_type": "markdown",
   "id": "75b1a020",
   "metadata": {},
   "source": [
    "39. Check if a string contains only alphabets."
   ]
  },
  {
   "cell_type": "code",
   "execution_count": 16,
   "id": "36678f72",
   "metadata": {},
   "outputs": [
    {
     "name": "stdout",
     "output_type": "stream",
     "text": [
      "'HelloWorld' contains only alphabets: True\n",
      "'subho387' contains only alphabets: False\n",
      "'1249843834345' contains only alphabets: False\n"
     ]
    }
   ],
   "source": [
    "def contains_only_alphabets(input_string):\n",
    "    # Check if all characters in the string are alphabetic\n",
    "    return input_string.isalpha()\n",
    "\n",
    "# Example strings\n",
    "string1 = \"HelloWorld\"\n",
    "string2 = \"subho387\"\n",
    "string3 = \"1249843834345\"\n",
    "\n",
    "# Check if strings contain only alphabets\n",
    "result1 = contains_only_alphabets(string1)\n",
    "result2 = contains_only_alphabets(string2)\n",
    "result3 = contains_only_alphabets(string3)\n",
    "\n",
    "# Print the results\n",
    "print(f\"'{string1}' contains only alphabets:\", result1)\n",
    "print(f\"'{string2}' contains only alphabets:\", result2)\n",
    "print(f\"'{string3}' contains only alphabets:\", result3)"
   ]
  },
  {
   "cell_type": "markdown",
   "id": "a82075aa",
   "metadata": {},
   "source": [
    "40. Convert a string to a list of characters."
   ]
  },
  {
   "cell_type": "code",
   "execution_count": 17,
   "id": "658695ff",
   "metadata": {},
   "outputs": [
    {
     "name": "stdout",
     "output_type": "stream",
     "text": [
      "Original string: Hello, world!\n",
      "List of characters: ['H', 'e', 'l', 'l', 'o', ',', ' ', 'w', 'o', 'r', 'l', 'd', '!']\n"
     ]
    }
   ],
   "source": [
    "def string_to_list(input_string):\n",
    "    #typecasting to a list\n",
    "    char_list = list(input_string)\n",
    "    return char_list\n",
    "\n",
    "input_str = \"Hello, world!\"\n",
    "print(\"Original string:\", input_str)\n",
    "\n",
    "# Convert the string to a list of characters\n",
    "char_list = string_to_list(input_str)\n",
    "\n",
    "# Print the list of characters\n",
    "print(\"List of characters:\", char_list)"
   ]
  },
  {
   "cell_type": "markdown",
   "id": "8ba4f869",
   "metadata": {},
   "source": [
    "41. Check if two strings are anagrams."
   ]
  },
  {
   "cell_type": "code",
   "execution_count": 18,
   "id": "2acf8adb",
   "metadata": {},
   "outputs": [
    {
     "name": "stdout",
     "output_type": "stream",
     "text": [
      "'listen' and 'silent' are anagrams: True\n",
      "'hello' and 'world' are anagrams: False\n"
     ]
    }
   ],
   "source": [
    "def are_anagrams(str1, str2):\n",
    "    # Remove spaces and convert strings to lowercase for accurate comparison\n",
    "    str1 = str1.replace(\" \", \"\").lower()\n",
    "    str2 = str2.replace(\" \", \"\").lower()\n",
    "\n",
    "    # Sort the characters in both strings and compare\n",
    "    return sorted(str1) == sorted(str2)\n",
    "\n",
    "# Example strings\n",
    "string1 = \"listen\"\n",
    "string2 = \"silent\"\n",
    "string3 = \"hello\"\n",
    "string4 = \"world\"\n",
    "\n",
    "# Check if strings are anagrams\n",
    "result1 = are_anagrams(string1, string2)\n",
    "result2 = are_anagrams(string3, string4)\n",
    "\n",
    "# Print the results\n",
    "print(f\"'{string1}' and '{string2}' are anagrams:\", result1)\n",
    "print(f\"'{string3}' and '{string4}' are anagrams:\", result2)"
   ]
  },
  {
   "cell_type": "markdown",
   "id": "b84d2c09",
   "metadata": {},
   "source": [
    "42. Encode a string using a Caesar cipher."
   ]
  },
  {
   "cell_type": "code",
   "execution_count": 19,
   "id": "99bce8ac",
   "metadata": {},
   "outputs": [
    {
     "name": "stdout",
     "output_type": "stream",
     "text": [
      "Encoded text: ehoor, zruog!\n"
     ]
    }
   ],
   "source": [
    "# Define a function named caesar_cipher that encodes a string using a Caesar cipher.\n",
    "def caesar_cipher(text, shift):\n",
    "  \"\"\"\n",
    "  Encodes a string using a Caesar cipher.\n",
    "\n",
    "  Args:\n",
    "    text: The string to encode.\n",
    "    shift: The number of positions to shift each letter.\n",
    "\n",
    "  Returns:\n",
    "    The encoded string.\n",
    "  \"\"\"\n",
    "\n",
    "  # Initialize an empty string to store the encoded text.\n",
    "  encoded_text = \"\"\n",
    "\n",
    "  # Iterate through each character in the input text.\n",
    "  for char in text:\n",
    "    # Check if the character is alphabetic.\n",
    "    if char.isalpha():\n",
    "      # Calculate the encoded character's Unicode code point value by shifting it by the specified amount.\n",
    "      # Ensure the value wraps around within the lowercase alphabet range (a-z).\n",
    "      encoded_char = chr((ord(char) + shift - ord('a')) % 26 + ord('a'))\n",
    "    else:\n",
    "      # Keep non-alphabetic characters unchanged.\n",
    "      encoded_char = char\n",
    "\n",
    "    # Add the encoded character to the encoded text.\n",
    "    encoded_text += encoded_char\n",
    "\n",
    "  # Return the resulting encoded text.\n",
    "  return encoded_text\n",
    "\n",
    "# Define the input text and the shift value for encoding.\n",
    "text = \"Hello, world!\"\n",
    "shift = 3\n",
    "\n",
    "# Call the caesar_cipher function to encode the text using the specified shift.\n",
    "encoded_text = caesar_cipher(text, shift)\n",
    "\n",
    "# Print the encoded text.\n",
    "print(\"Encoded text:\", encoded_text)"
   ]
  },
  {
   "cell_type": "markdown",
   "id": "fc021a2c",
   "metadata": {},
   "source": [
    "43. Decode a Caesar cipher encoded string."
   ]
  },
  {
   "cell_type": "code",
   "execution_count": 20,
   "id": "c479951f",
   "metadata": {},
   "outputs": [
    {
     "name": "stdout",
     "output_type": "stream",
     "text": [
      "Decoded text: ilmm, world!\n"
     ]
    }
   ],
   "source": [
    "# Define a function to decode a string using a Caesar cipher\n",
    "def caesar_cipher_decoder(text, shift):\n",
    "    \"\"\"\n",
    "    Decodes a string using a Caesar cipher.\n",
    "\n",
    "    Args:\n",
    "        text: The string to decode.\n",
    "        shift: The number of positions to shift each letter.\n",
    "\n",
    "    Returns:\n",
    "        The decoded string.\n",
    "    \"\"\"\n",
    "\n",
    "    # Initialize an empty string to store the decoded text\n",
    "    decoded_text = \"\"\n",
    "\n",
    "    # Loop through each character in the input text\n",
    "    for char in text:\n",
    "        # Check if the character is an alphabetic character\n",
    "        if char.isalpha():\n",
    "            # Calculate the decoded character using the shift value\n",
    "            decoded_char = chr((ord(char) - shift - ord('a')) % 26 + ord('a'))\n",
    "        else:\n",
    "            # If the character is not alphabetic, keep it unchanged\n",
    "            decoded_char = char\n",
    "\n",
    "        # Add the decoded character to the decoded text\n",
    "        decoded_text += decoded_char\n",
    "\n",
    "    # Return the fully decoded text\n",
    "    return decoded_text\n",
    "\n",
    "# Example input\n",
    "text = \"lopp, zruog!\"\n",
    "shift = 3\n",
    "\n",
    "# Call the caesar_cipher_decoder function to decode the input text\n",
    "decoded_text = caesar_cipher_decoder(text, shift)\n",
    "\n",
    "# Print the decoded text\n",
    "print(\"Decoded text:\", decoded_text)"
   ]
  },
  {
   "cell_type": "markdown",
   "id": "9cb2719c",
   "metadata": {},
   "source": [
    " 44. Find the most frequent word in a string."
   ]
  },
  {
   "cell_type": "code",
   "execution_count": 24,
   "id": "969716dd",
   "metadata": {},
   "outputs": [
    {
     "name": "stdout",
     "output_type": "stream",
     "text": [
      "Most frequent word: hello\n"
     ]
    }
   ],
   "source": [
    "import re\n",
    "from collections import Counter\n",
    "\n",
    "def most_frequent_word(input_string):\n",
    "    # Remove punctuation and convert to lowercase\n",
    "    clean_string = re.sub(r'[^\\w\\s]', '', input_string).lower()\n",
    "\n",
    "    # Split the string into words\n",
    "    words = clean_string.split()\n",
    "\n",
    "    # Use Counter to count word frequencies\n",
    "    word_counter = Counter(words)\n",
    "\n",
    "    # Find the most common word\n",
    "    most_common_word = word_counter.most_common(1)[0][0]\n",
    "    return most_common_word\n",
    "\n",
    "\n",
    "# Example string\n",
    "input_str = \"Hello world, hello there! How's the world?\"\n",
    "\n",
    "# Find the most frequent word\n",
    "most_common = most_frequent_word(input_str)\n",
    "\n",
    "# Print the result\n",
    "print(\"Most frequent word:\", most_common)"
   ]
  },
  {
   "cell_type": "markdown",
   "id": "23085a5c",
   "metadata": {},
   "source": [
    "45. Find all unique words in a string."
   ]
  },
  {
   "cell_type": "code",
   "execution_count": 14,
   "id": "a642e8d4",
   "metadata": {},
   "outputs": [
    {
     "name": "stdout",
     "output_type": "stream",
     "text": [
      "{'guys', 'hello', 'evening', 'good', 'morning!'}\n"
     ]
    }
   ],
   "source": [
    "string='Hello guys Good morning! hello Guys Good Evening'\n",
    "\n",
    "#making every words lower\n",
    "cleaned_string=string.lower()\n",
    "\n",
    "#making a list out of it by removing spaces\n",
    "words_list=cleaned_string.split(\" \")\n",
    "\n",
    "#transforming it into a set. sets don't store any copies, so every word in that set will be unique\n",
    "unique_words = set(words_list)\n",
    "print(unique_words)"
   ]
  },
  {
   "cell_type": "markdown",
   "id": "42dc53ad",
   "metadata": {},
   "source": [
    " 46. Count the number of syllables in a string."
   ]
  },
  {
   "cell_type": "code",
   "execution_count": 1,
   "id": "f6bb626d",
   "metadata": {},
   "outputs": [
    {
     "name": "stdout",
     "output_type": "stream",
     "text": [
      "'hello' has 2 syllables.\n",
      "'banana' has 3 syllables.\n",
      "'syllable' has 3 syllables.\n"
     ]
    }
   ],
   "source": [
    "import re\n",
    "\n",
    "def count_syllables(word):\n",
    "    # Count vowel groups using regular expression\n",
    "    vowel_groups = re.findall(r'[aeiouy]+', word, re.IGNORECASE)\n",
    "\n",
    "    return len(vowel_groups)\n",
    "\n",
    "# Example words\n",
    "word1 = \"hello\"\n",
    "word2 = \"banana\"\n",
    "word3 = \"syllable\"\n",
    "\n",
    "# Count syllables\n",
    "syllables1 = count_syllables(word1)\n",
    "syllables2 = count_syllables(word2)\n",
    "syllables3 = count_syllables(word3)\n",
    "\n",
    "# Print the results\n",
    "print(f\"'{word1}' has {syllables1} syllables.\")\n",
    "print(f\"'{word2}' has {syllables2} syllables.\")\n",
    "print(f\"'{word3}' has {syllables3} syllables.\")"
   ]
  },
  {
   "cell_type": "markdown",
   "id": "4cd441e2",
   "metadata": {},
   "source": [
    " 47. Check if a string contains any special characters."
   ]
  },
  {
   "cell_type": "code",
   "execution_count": 18,
   "id": "9b76725e",
   "metadata": {},
   "outputs": [
    {
     "name": "stdout",
     "output_type": "stream",
     "text": [
      "'Hello, world!' contains special characters: True\n",
      "'This is a test string.' contains special characters: True\n",
      "'@Character$$$$$$' contains special characters: True\n"
     ]
    }
   ],
   "source": [
    "import re\n",
    "\n",
    "def special_characters(input_string):\n",
    "    # Define a regular expression pattern to match special characters\n",
    "    pattern = re.compile(r'[!@#$%^&*()_+{}\\[\\]:;<>,.?~\\\\/]')\n",
    "\n",
    "    # Use the search() method to find a match\n",
    "    match = pattern.search(input_string)\n",
    "\n",
    "    # Return True if a match is found, False otherwise\n",
    "    return bool(match)\n",
    "\n",
    "# Example strings\n",
    "string1 = \"Hello, world!\"\n",
    "string2 = \"This is a test string.\"\n",
    "string3 = \"@Character$$$$$$\"\n",
    "\n",
    "# Check if strings contain special characters\n",
    "result1 = special_characters(string1)\n",
    "result2 = special_characters(string2)\n",
    "result3 = special_characters(string3)\n",
    "\n",
    "# Print the results\n",
    "print(f\"'{string1}' contains special characters:\", result1)\n",
    "print(f\"'{string2}' contains special characters:\", result2)\n",
    "print(f\"'{string3}' contains special characters:\", result3)"
   ]
  },
  {
   "cell_type": "markdown",
   "id": "7cf77c1a",
   "metadata": {},
   "source": [
    "48. Remove the nth word from a string."
   ]
  },
  {
   "cell_type": "code",
   "execution_count": 10,
   "id": "ff02aa40",
   "metadata": {},
   "outputs": [
    {
     "name": "stdout",
     "output_type": "stream",
     "text": [
      "The string is : Hello my name is Subhodip Ghosh\n",
      "new string : Hello my name is Ghosh\n",
      "removed word : Subhodip\n"
     ]
    }
   ],
   "source": [
    "def remove_word(string, n):\n",
    "    words= string.split(' ') \n",
    "    \n",
    "    #checking the input index is in range or not\n",
    "    if n>=1 and n<=len(words):\n",
    "        #removing the word\n",
    "        popping_word= words.pop(n-1)\n",
    "        \n",
    "        #creating a new string by joining the words \n",
    "        words_string = ' '.join(words)\n",
    "        \n",
    "        #returning the new string and the removed word\n",
    "        return words_string, popping_word\n",
    "        \n",
    "    else:\n",
    "        return None,None\n",
    "        \n",
    "string= \"Hello my name is Subhodip Ghosh\"\n",
    "n=int(input('Enter the index :'))\n",
    "print('The string is :',string)\n",
    "\n",
    "new_string, removed_word = remove_word(string,n)\n",
    "\n",
    "#if the remove_word function returs some values it will print these\n",
    "if  new_string != None:\n",
    "    print('new string :', new_string)\n",
    "    print('removed word :', removed_word)\n",
    "else:\n",
    "    print('input is out of range')"
   ]
  },
  {
   "cell_type": "markdown",
   "id": "672dbdca",
   "metadata": {},
   "source": [
    "49. Insert a word at the nth position in a string."
   ]
  },
  {
   "cell_type": "code",
   "execution_count": 9,
   "id": "6f863e6f",
   "metadata": {},
   "outputs": [
    {
     "name": "stdout",
     "output_type": "stream",
     "text": [
      "The old string is : Hello my name is Subhodip Ghosh\n",
      "The new string is : Hello my name is S Subhodip Ghosh\n"
     ]
    }
   ],
   "source": [
    "def insert_word(string,new_word, n):\n",
    "    \n",
    "    #string to list\n",
    "    words= string.split(' ')\n",
    "    \n",
    "    #checking the input index is in range or not\n",
    "    if n>=1 and n<=len(words):\n",
    "        #inserting the word\n",
    "        words.insert(n-1,new_word)\n",
    "        \n",
    "        #creating a new string by joining the words \n",
    "        words_string = ' '.join(words)\n",
    "        #returning the new string \n",
    "        return words_string\n",
    "        \n",
    "    else:\n",
    "        return None\n",
    "        \n",
    "string= \"Hello my name is Subhodip Ghosh\"\n",
    "n=int(input('Enter the index :'))\n",
    "\n",
    "new_word= input('Enter your word ')\n",
    "\n",
    "new_string = insert_word(string,new_word,n)\n",
    "print('The old string is :',string)\n",
    "\n",
    "if  new_string != None:\n",
    "    print('The new string is :', new_string)\n",
    "else:\n",
    "    print('input is out of range')"
   ]
  },
  {
   "cell_type": "markdown",
   "id": "64b22995",
   "metadata": {},
   "source": [
    "50. Convert a CSV string to a list of lists."
   ]
  },
  {
   "cell_type": "code",
   "execution_count": 66,
   "id": "b62d203f",
   "metadata": {},
   "outputs": [
    {
     "name": "stdout",
     "output_type": "stream",
     "text": [
      "['Name', ' roll number', ' marks']\n",
      "['Subho', ' 10', ' 56']\n",
      "[' archi', ' 7', ' 67']\n"
     ]
    }
   ],
   "source": [
    "def csv_to_list(string):\n",
    "    #splits the string into level 1 list\n",
    "    tags = string.split('\\n')\n",
    "    \n",
    "    #empty list to store final output\n",
    "    result=[]\n",
    "    \n",
    "    for tag in tags:\n",
    "    #splits the string into level 2 list\n",
    "        values = tag.split(',')\n",
    "        \n",
    "        #adds the values as a lsit element in result list\n",
    "        result.append(values)\n",
    "    \n",
    "    return result\n",
    "    \n",
    "    \n",
    "string= \"Name, roll number, marks\\nSubho, 10, 56\\n archi, 7, 67\"\n",
    "list_of_lists=csv_to_list(string)\n",
    "\n",
    "for row in list_of_lists:\n",
    "    print(row)"
   ]
  },
  {
   "cell_type": "markdown",
   "id": "7e9fd78e",
   "metadata": {},
   "source": [
    "## List based practice problem :\n"
   ]
  },
  {
   "cell_type": "markdown",
   "id": "f3f5ed92",
   "metadata": {},
   "source": [
    "### 1. Create a list with integers from 1 to 10.\n"
   ]
  },
  {
   "cell_type": "code",
   "execution_count": 69,
   "id": "34a388d4",
   "metadata": {},
   "outputs": [
    {
     "name": "stdout",
     "output_type": "stream",
     "text": [
      "[1, 2, 3, 4, 5, 6, 7, 8, 9, 10]\n"
     ]
    }
   ],
   "source": [
    "list_int=[i for i in range(1,11)]\n",
    "print(list_int)"
   ]
  },
  {
   "cell_type": "markdown",
   "id": "8fc8cf4e",
   "metadata": {},
   "source": [
    "### 2. Find the length of a list without using the `len()` function."
   ]
  },
  {
   "cell_type": "code",
   "execution_count": 27,
   "id": "b978dcc1",
   "metadata": {},
   "outputs": [
    {
     "name": "stdout",
     "output_type": "stream",
     "text": [
      "Length of list is : 6\n"
     ]
    }
   ],
   "source": [
    "def list_len(List):\n",
    "    count = 0\n",
    "    for i in List:\n",
    "        count+=1\n",
    "    return count\n",
    "\n",
    "List = [1,2,3,4,5,6]\n",
    "L = list_len(List)\n",
    "print('Length of list is :',L)"
   ]
  },
  {
   "cell_type": "markdown",
   "id": "d2ea3c7b",
   "metadata": {},
   "source": [
    "### 3. Append an element to the end of a list."
   ]
  },
  {
   "cell_type": "code",
   "execution_count": 33,
   "id": "5ef851ca",
   "metadata": {},
   "outputs": [
    {
     "name": "stdout",
     "output_type": "stream",
     "text": [
      "new list: [1, 2, 3, 4, 5, 6, 7]\n"
     ]
    }
   ],
   "source": [
    "List = [1,2,3,4,5,6]\n",
    "e= int(input('enter an element:'))\n",
    "List.append(e)\n",
    "print('new list:',List)"
   ]
  },
  {
   "cell_type": "markdown",
   "id": "556baa6d",
   "metadata": {},
   "source": [
    "### 4. Insert an element at a specific index in a list.\n"
   ]
  },
  {
   "cell_type": "code",
   "execution_count": 50,
   "id": "3c12861d",
   "metadata": {},
   "outputs": [
    {
     "name": "stdout",
     "output_type": "stream",
     "text": [
      "List : [1, 2, 3, 4, 5, 6]\n",
      "new list: [1, 2, 3, 4, 5, 6, 7]\n"
     ]
    }
   ],
   "source": [
    "List = [1,2,3,4,5,6]\n",
    "index = int(input('Enter the index:'))\n",
    "element = int(input('Enter the element:'))\n",
    "\n",
    "print('List :' ,List)\n",
    "List.insert(index,element)\n",
    "print('new list:',List)\n"
   ]
  },
  {
   "cell_type": "markdown",
   "id": "29f54ca3",
   "metadata": {},
   "source": [
    "### 5. Remove an element from a list by its value."
   ]
  },
  {
   "cell_type": "code",
   "execution_count": 48,
   "id": "eaf906a8",
   "metadata": {},
   "outputs": [
    {
     "name": "stdout",
     "output_type": "stream",
     "text": [
      "List : [1, 2, 3, 4, 5, 6]\n",
      "new list: [1, 2, 3, 4, 5]\n"
     ]
    }
   ],
   "source": [
    "List = [1,2,3,4,5,6]\n",
    "element = int(input('Choose the element between 1,2,3,4,5,6 :'))\n",
    "print('List :' ,List)\n",
    "List.remove(element)\n",
    "print('new list:',List)\n"
   ]
  },
  {
   "cell_type": "markdown",
   "id": "be53d75a",
   "metadata": {},
   "source": [
    "### 6. Remove an element from a list by its index.\n"
   ]
  },
  {
   "cell_type": "code",
   "execution_count": 52,
   "id": "60c77742",
   "metadata": {},
   "outputs": [
    {
     "name": "stdout",
     "output_type": "stream",
     "text": [
      "List : [1, 2, 3, 4, 5, 6]\n",
      "new list: [1, 2, 3, 4, 5]\n"
     ]
    }
   ],
   "source": [
    "List = [1,2,3,4,5,6]\n",
    "index = int(input('Enter the index:'))\n",
    "print('List :' ,List)\n",
    "List.pop(index)\n",
    "print('new list:',List)"
   ]
  },
  {
   "cell_type": "markdown",
   "id": "cec4a573",
   "metadata": {},
   "source": [
    "### 7. Check if an element exists in a list.\n"
   ]
  },
  {
   "cell_type": "code",
   "execution_count": 2,
   "id": "fddaa18f",
   "metadata": {},
   "outputs": [
    {
     "name": "stdout",
     "output_type": "stream",
     "text": [
      "yes, present\n"
     ]
    }
   ],
   "source": [
    "List = [1,2,3,4,5,6]\n",
    "element = int(input('enter the element:'))\n",
    "\n",
    "if element in List:\n",
    "    print('yes, present')\n",
    "else:\n",
    "    print('not present')"
   ]
  },
  {
   "cell_type": "markdown",
   "id": "0c909f67",
   "metadata": {},
   "source": [
    "### 8. Find the index of the first occurrence of an element in a list."
   ]
  },
  {
   "cell_type": "code",
   "execution_count": 22,
   "id": "64d02536",
   "metadata": {},
   "outputs": [
    {
     "name": "stdout",
     "output_type": "stream",
     "text": [
      "The first occurrence of 7 is at index 1\n"
     ]
    }
   ],
   "source": [
    "list2 = [3,7,5,3,7,5,3,8]\n",
    "element = int(input('enter the element:'))\n",
    "\n",
    "for i in list2:\n",
    "    if i == element:\n",
    "        print (f'The first occurrence of {element} is at index {list2.index(i)}')\n",
    "        break\n",
    "    \n",
    "#alternative way\n",
    "#index = list2.index(element)"
   ]
  },
  {
   "cell_type": "markdown",
   "id": "13fc2b39",
   "metadata": {},
   "source": [
    "### 9. Count the occurrences of an element in a list."
   ]
  },
  {
   "cell_type": "code",
   "execution_count": 23,
   "id": "afd9d864",
   "metadata": {},
   "outputs": [
    {
     "name": "stdout",
     "output_type": "stream",
     "text": [
      "The total occurrence of 8 is 1\n"
     ]
    }
   ],
   "source": [
    "list2 = [3,7,5,3,7,5,3,8]\n",
    "element = int(input('enter the element:'))\n",
    "count = 0\n",
    "for i in list2:\n",
    "    if i == element:\n",
    "        count += 1\n",
    "\n",
    "#alternative way\n",
    "#count=list2.count(element)\n",
    "\n",
    "print (f'The total occurrence of {element} is {count}')\n"
   ]
  },
  {
   "cell_type": "markdown",
   "id": "30c42daa",
   "metadata": {},
   "source": [
    "### 10. Reverse the order of elements in a list."
   ]
  },
  {
   "cell_type": "code",
   "execution_count": 24,
   "id": "2174b4d4",
   "metadata": {},
   "outputs": [
    {
     "name": "stdout",
     "output_type": "stream",
     "text": [
      "[6, 5, 4, 3, 2, 1]\n"
     ]
    }
   ],
   "source": [
    "List = [1,2,3,4,5,6]\n",
    "reversed_list = List[::-1]\n",
    "print(reversed_list)"
   ]
  },
  {
   "cell_type": "markdown",
   "id": "6264692d",
   "metadata": {},
   "source": [
    "### 11. Sort a list in ascending order.\n"
   ]
  },
  {
   "cell_type": "code",
   "execution_count": 29,
   "id": "0877af5c",
   "metadata": {},
   "outputs": [
    {
     "name": "stdout",
     "output_type": "stream",
     "text": [
      "[3, 3, 3, 5, 5, 7, 7, 8]\n"
     ]
    }
   ],
   "source": [
    "list2 = [3,7,5,3,7,5,3,8]\n",
    "list2.sort()\n",
    "print(list2)\n"
   ]
  },
  {
   "cell_type": "markdown",
   "id": "b9db2200",
   "metadata": {},
   "source": [
    "### 12. Sort a list in descending order.\n"
   ]
  },
  {
   "cell_type": "code",
   "execution_count": 31,
   "id": "bcf02bdb",
   "metadata": {},
   "outputs": [
    {
     "name": "stdout",
     "output_type": "stream",
     "text": [
      "[8, 7, 7, 5, 5, 3, 3, 3]\n"
     ]
    }
   ],
   "source": [
    "list2 = [3,7,5,3,7,5,3,8]\n",
    "list2.sort(reverse=True)\n",
    "print(list2)"
   ]
  },
  {
   "cell_type": "markdown",
   "id": "affa65c3",
   "metadata": {},
   "source": [
    "### 13. Create a list of even numbers from 1 to 20.\n"
   ]
  },
  {
   "cell_type": "code",
   "execution_count": 34,
   "id": "aa9255ec",
   "metadata": {},
   "outputs": [
    {
     "name": "stdout",
     "output_type": "stream",
     "text": [
      "[2, 4, 6, 8, 10, 12, 14, 16, 18]\n"
     ]
    }
   ],
   "source": [
    "list2 = [i for i in range (2,20,2)]\n",
    "print(list2)"
   ]
  },
  {
   "cell_type": "markdown",
   "id": "fe9a62b1",
   "metadata": {},
   "source": [
    "### 14. Create a list of odd numbers from 1 to 20.\n"
   ]
  },
  {
   "cell_type": "code",
   "execution_count": 35,
   "id": "c1d74dce",
   "metadata": {},
   "outputs": [
    {
     "name": "stdout",
     "output_type": "stream",
     "text": [
      "[1, 3, 5, 7, 9, 11, 13, 15, 17, 19]\n"
     ]
    }
   ],
   "source": [
    "list2 = [i for i in range (1,20,2)]\n",
    "print(list2)"
   ]
  },
  {
   "cell_type": "markdown",
   "id": "ad5efca7",
   "metadata": {},
   "source": [
    "### 15. Find the sum of all elements in a list.\n"
   ]
  },
  {
   "cell_type": "code",
   "execution_count": 38,
   "id": "2ad6e8ae",
   "metadata": {},
   "outputs": [
    {
     "name": "stdout",
     "output_type": "stream",
     "text": [
      "sum of all digits is : 21\n"
     ]
    }
   ],
   "source": [
    "List = [1,2,3,4,5,6]\n",
    "total=0\n",
    "for i in List:\n",
    "    total+=i\n",
    "\n",
    "#total=sum(List)\n",
    "print('sum of all digits is :',total)"
   ]
  },
  {
   "cell_type": "markdown",
   "id": "f5a38785",
   "metadata": {},
   "source": [
    "### 16. Find the maximum value in a list.\n"
   ]
  },
  {
   "cell_type": "code",
   "execution_count": 41,
   "id": "385d5d27",
   "metadata": {},
   "outputs": [
    {
     "name": "stdout",
     "output_type": "stream",
     "text": [
      "the maximum value in list is  6\n"
     ]
    }
   ],
   "source": [
    "List = [1,2,3,4,5,6]\n",
    "max_value = max(List)\n",
    "print('the maximum value in list is ', max_value)"
   ]
  },
  {
   "cell_type": "markdown",
   "id": "9ebc3cee",
   "metadata": {},
   "source": [
    "### 17. Find the minimum value in a list.\n"
   ]
  },
  {
   "cell_type": "code",
   "execution_count": 42,
   "id": "c83ab60d",
   "metadata": {},
   "outputs": [
    {
     "name": "stdout",
     "output_type": "stream",
     "text": [
      "the minimum value in list is  1\n"
     ]
    }
   ],
   "source": [
    "List = [1,2,3,4,5,6]\n",
    "min_value = min(List)\n",
    "print('the minimum value in list is ', min_value)"
   ]
  },
  {
   "cell_type": "markdown",
   "id": "7f897373",
   "metadata": {},
   "source": [
    "### 18. Create a list of squares of numbers from 1 to 10.\n"
   ]
  },
  {
   "cell_type": "code",
   "execution_count": 44,
   "id": "8983d7aa",
   "metadata": {},
   "outputs": [
    {
     "name": "stdout",
     "output_type": "stream",
     "text": [
      "[1, 4, 9, 16, 25, 36, 49, 64, 81, 100]\n"
     ]
    }
   ],
   "source": [
    "list3=[i**2 for i in range(1,11)]\n",
    "print(list3)"
   ]
  },
  {
   "cell_type": "markdown",
   "id": "25cfe45a",
   "metadata": {},
   "source": [
    "### 19. Create a list of random numbers.\n"
   ]
  },
  {
   "cell_type": "code",
   "execution_count": 2,
   "id": "a4051bfa",
   "metadata": {},
   "outputs": [
    {
     "name": "stdout",
     "output_type": "stream",
     "text": [
      "[4, 10, 5, 2, 6]\n"
     ]
    }
   ],
   "source": [
    "import random\n",
    "\n",
    "r_int = [random.randint(1,10) for i in range (5)]\n",
    "print(r_int)"
   ]
  },
  {
   "cell_type": "markdown",
   "id": "61f01839",
   "metadata": {},
   "source": [
    "### 20. Remove duplicates from a list.\n"
   ]
  },
  {
   "cell_type": "code",
   "execution_count": 4,
   "id": "64639f49",
   "metadata": {},
   "outputs": [
    {
     "name": "stdout",
     "output_type": "stream",
     "text": [
      "[8, 3, 5, 7]\n"
     ]
    }
   ],
   "source": [
    "list2 = [3,7,5,3,7,5,3,8]\n",
    "\n",
    "#typecasting to a set , to remove all duplicate unms\n",
    "unique_nums = set(list2)\n",
    "#typecasting to a list\n",
    "unique_list = list(unique_nums)\n",
    "print(unique_list)"
   ]
  },
  {
   "cell_type": "markdown",
   "id": "9f70fbd9",
   "metadata": {},
   "source": [
    "### 21. Find the common elements between two lists.\n"
   ]
  },
  {
   "cell_type": "code",
   "execution_count": 10,
   "id": "f02f6718",
   "metadata": {},
   "outputs": [
    {
     "name": "stdout",
     "output_type": "stream",
     "text": [
      "[8, 3, 5]\n"
     ]
    }
   ],
   "source": [
    "list1 = [1,2,3,4,5,8]\n",
    "list2 = [3,7,5,3,7,5,3,8]\n",
    "common_elements = []\n",
    "for i in list1:\n",
    "    for j in list2:\n",
    "        if i == j:\n",
    "            common_elements.append(j)\n",
    "print(list(set(common_elements)))"
   ]
  },
  {
   "cell_type": "markdown",
   "id": "ee149a78",
   "metadata": {},
   "source": [
    "### 22. Find the difference between two lists.\n"
   ]
  },
  {
   "cell_type": "code",
   "execution_count": 22,
   "id": "e2ae2ead",
   "metadata": {},
   "outputs": [
    {
     "name": "stdout",
     "output_type": "stream",
     "text": [
      "[1, 2, 4]\n"
     ]
    }
   ],
   "source": [
    "list1 = [1,2,3,4,5,8]\n",
    "list2 = [3,7,5,3,7,5,3,8]\n",
    "diff_elements = []\n",
    "for i in list1:\n",
    "    if i not in list2 :\n",
    "            diff_elements.append(i)\n",
    "print(list(set(diff_elements)))\n",
    "\n",
    "#alternative\n",
    "#diff_elements = set(list1).difference(list2)\n",
    "#print(list(diff_elements))"
   ]
  },
  {
   "cell_type": "markdown",
   "id": "29814d9e",
   "metadata": {},
   "source": [
    "### 23. Merge two lists.\n"
   ]
  },
  {
   "cell_type": "code",
   "execution_count": 24,
   "id": "66131a1a",
   "metadata": {},
   "outputs": [
    {
     "name": "stdout",
     "output_type": "stream",
     "text": [
      "[1, 2, 3, 4, 5, 8, 3, 7, 5, 3, 7, 5, 3, 8]\n"
     ]
    }
   ],
   "source": [
    "list1 = [1,2,3,4,5,8]\n",
    "list2 = [3,7,5,3,7,5,3,8]\n",
    "\n",
    "merged_list = list1 + list2\n",
    "\n",
    "print(merged_list)"
   ]
  },
  {
   "cell_type": "markdown",
   "id": "466709d1",
   "metadata": {},
   "source": [
    "### 24. Multiply all elements in a list by 2.\n"
   ]
  },
  {
   "cell_type": "code",
   "execution_count": 25,
   "id": "1776e8d8",
   "metadata": {},
   "outputs": [
    {
     "name": "stdout",
     "output_type": "stream",
     "text": [
      "[2, 4, 6, 8, 10]\n"
     ]
    }
   ],
   "source": [
    "list1 = [1,2,3,4,5]\n",
    "new_list = [i*2 for i in list1]\n",
    "print(new_list)"
   ]
  },
  {
   "cell_type": "markdown",
   "id": "b8a5232e",
   "metadata": {},
   "source": [
    "### 25. Filter out all even numbers from a list.\n"
   ]
  },
  {
   "cell_type": "code",
   "execution_count": 27,
   "id": "eea7fc0d",
   "metadata": {},
   "outputs": [
    {
     "name": "stdout",
     "output_type": "stream",
     "text": [
      "[2, 4]\n"
     ]
    }
   ],
   "source": [
    "list1 = [1,2,3,4,5]\n",
    "even_list1 = [i for i in list1 if i%2==0]\n",
    "print(even_list1)"
   ]
  },
  {
   "cell_type": "markdown",
   "id": "536ef7ea",
   "metadata": {},
   "source": [
    "### 26. Convert a list of strings to a list of integers.\n"
   ]
  },
  {
   "cell_type": "code",
   "execution_count": 28,
   "id": "181b7e47",
   "metadata": {},
   "outputs": [
    {
     "name": "stdout",
     "output_type": "stream",
     "text": [
      "[1, 2, 3]\n"
     ]
    }
   ],
   "source": [
    "string_list = ['1','2','3']\n",
    "int_list=[int(i) for i in string_list]\n",
    "print(int_list)"
   ]
  },
  {
   "cell_type": "markdown",
   "id": "06ed80ee",
   "metadata": {},
   "source": [
    "### 27. Convert a list of integers to a list of strings.\n"
   ]
  },
  {
   "cell_type": "code",
   "execution_count": 30,
   "id": "2f41d1b1",
   "metadata": {},
   "outputs": [
    {
     "name": "stdout",
     "output_type": "stream",
     "text": [
      "['1', '2', '3']\n"
     ]
    }
   ],
   "source": [
    "int_list= [1, 2, 3]\n",
    "string_list =[str(i) for i in int_list]\n",
    "print(string_list)"
   ]
  },
  {
   "cell_type": "markdown",
   "id": "892f753c",
   "metadata": {},
   "source": [
    "### 28. Flatten a nested list.\n"
   ]
  },
  {
   "cell_type": "code",
   "execution_count": 31,
   "id": "b15afd05",
   "metadata": {},
   "outputs": [
    {
     "name": "stdout",
     "output_type": "stream",
     "text": [
      "[1, 2, 3, 4, 5, 6, 7, 8, 9]\n"
     ]
    }
   ],
   "source": [
    "nested_list = [[1, 2, 3], [4, 5, 6], [7, 8, 9]]\n",
    "flattend_list = []\n",
    "for i in nested_list:\n",
    "    for j in i:\n",
    "        flattend_list.append(j)\n",
    "print(flattend_list)"
   ]
  },
  {
   "cell_type": "markdown",
   "id": "249b90d1",
   "metadata": {},
   "source": [
    "### 29. Create a list of the first 10 Fibonacci numbers.\n"
   ]
  },
  {
   "cell_type": "code",
   "execution_count": 52,
   "id": "61d655a1",
   "metadata": {},
   "outputs": [
    {
     "data": {
      "text/plain": [
       "[0, 1, 1, 2, 3, 5, 8, 13, 21, 34]"
      ]
     },
     "execution_count": 52,
     "metadata": {},
     "output_type": "execute_result"
    }
   ],
   "source": [
    "def fibonacci_list(n):\n",
    "    fib_list = [0,1]\n",
    "    for i in range(2,n):\n",
    "        fib_list.append(fib_list[i-1] + fib_list[i-2])\n",
    "    return fib_list\n",
    "\n",
    "fibonacci_list(10)"
   ]
  },
  {
   "cell_type": "markdown",
   "id": "4dc9a83f",
   "metadata": {},
   "source": [
    "### 30. Check if a list is sorted.\n"
   ]
  },
  {
   "cell_type": "code",
   "execution_count": 59,
   "id": "73469126",
   "metadata": {},
   "outputs": [
    {
     "name": "stdout",
     "output_type": "stream",
     "text": [
      "list is sorted\n"
     ]
    }
   ],
   "source": [
    "def sorted(list1):\n",
    "    for i in range(1, len(list1)):\n",
    "        if list1[i] < list1[i-1]:\n",
    "            return False\n",
    "    return True\n",
    "\n",
    "list1 = [1,2,3,4,5]\n",
    "if sorted(list1):\n",
    "    print('list is sorted')\n",
    "else:\n",
    "    print('list is not sorted')\n",
    "\n"
   ]
  },
  {
   "cell_type": "markdown",
   "id": "f51bdb70",
   "metadata": {},
   "source": [
    "31. Rotate a list to the left by `n` positions."
   ]
  },
  {
   "cell_type": "code",
   "execution_count": 9,
   "id": "bd1b9053",
   "metadata": {},
   "outputs": [
    {
     "data": {
      "text/plain": [
       "[9, 12, 15, 3, 6]"
      ]
     },
     "execution_count": 9,
     "metadata": {},
     "output_type": "execute_result"
    }
   ],
   "source": [
    "def rotate_list_from_n(list1,n):\n",
    "    new_list=[]\n",
    "    for i in range(len(list1)-n, len(list1)): \n",
    "        new_list.append(list1[i])\n",
    "    for i in range(len(list1)-n): \n",
    "        new_list.append(list1[i])\n",
    "    return new_list       \n",
    "\n",
    "\n",
    "list1=[3,6,9,12,15]\n",
    "n=int(input('enter the position:'))\n",
    "rotate_list_from_n(list1,n)"
   ]
  },
  {
   "cell_type": "markdown",
   "id": "e4c72112",
   "metadata": {},
   "source": [
    "32. Rotate a list to the right by `n` positions.\n"
   ]
  },
  {
   "cell_type": "code",
   "execution_count": 10,
   "id": "2c027661",
   "metadata": {},
   "outputs": [
    {
     "data": {
      "text/plain": [
       "[3, 6, 9, 12, 15]"
      ]
     },
     "execution_count": 10,
     "metadata": {},
     "output_type": "execute_result"
    }
   ],
   "source": [
    "def rotate_list_from_n(list1,n):\n",
    "    new_list=[]\n",
    "    for i in range(len(list1)-n): \n",
    "        new_list.append(list1[i])\n",
    "    for i in range(len(list1)-n, len(list1)): \n",
    "        new_list.append(list1[i])\n",
    "    \n",
    "    return new_list       \n",
    "\n",
    "\n",
    "list1=[3,6,9,12,15]\n",
    "n=int(input('enter the position:'))\n",
    "rotate_list_from_n(list1,n)\n"
   ]
  },
  {
   "cell_type": "markdown",
   "id": "d0a74810",
   "metadata": {},
   "source": [
    "33. Create a list of prime numbers up to 50."
   ]
  },
  {
   "cell_type": "code",
   "execution_count": 6,
   "id": "71834776",
   "metadata": {},
   "outputs": [
    {
     "name": "stdout",
     "output_type": "stream",
     "text": [
      "[2, 3, 5, 7, 11, 13, 17, 19, 23, 29, 31, 37, 41, 43, 47]\n"
     ]
    }
   ],
   "source": [
    "\n",
    "prime_list=[]\n",
    "for n in range(1,51):\n",
    "    #prime numbers start from 2\n",
    "    if n>1:\n",
    "        for i in range(2, n):\n",
    "            if (n%i) == 0:\n",
    "                break\n",
    "        else:\n",
    "            prime_list.append(n)\n",
    "print(prime_list)"
   ]
  },
  {
   "cell_type": "markdown",
   "id": "178dbf94",
   "metadata": {},
   "source": [
    "34. Split a list into chunks of size `n`."
   ]
  },
  {
   "cell_type": "code",
   "execution_count": 10,
   "id": "fd35e4b6",
   "metadata": {},
   "outputs": [
    {
     "name": "stdout",
     "output_type": "stream",
     "text": [
      "[[2, 3, 5, 7], [11, 13, 17, 23], [29, 31, 37, 41], [43, 47]]\n"
     ]
    }
   ],
   "source": [
    "list_1=[2, 3, 5, 7, 11, 13, 17, 23, 29, 31, 37, 41, 43, 47]\n",
    "\n",
    "def split_into_chunks(list1,n):\n",
    "    for i in range(0, len(list1), n):\n",
    "        yield list1[i: i+n]\n",
    "        \n",
    "n=4\n",
    "print(list(split_into_chunks(list_1,n)))"
   ]
  },
  {
   "cell_type": "markdown",
   "id": "30a12976",
   "metadata": {},
   "source": [
    "### 35. Find the second largest number in a list."
   ]
  },
  {
   "cell_type": "code",
   "execution_count": 26,
   "id": "8c209db6",
   "metadata": {},
   "outputs": [
    {
     "name": "stdout",
     "output_type": "stream",
     "text": [
      "in the list [32, 35, 41, 44, 56, 63, 82, 84, 97] the second largest element is :84\n"
     ]
    }
   ],
   "source": [
    "l=[41,63,35,82,97,32,56,84,44]\n",
    "#sorting the list in ascending order\n",
    "l.sort()\n",
    "#printing the second element from the last\n",
    "print(f\"in the list {l} the second largest element is :{l[-2]}\")"
   ]
  },
  {
   "cell_type": "markdown",
   "id": "9d5909ca",
   "metadata": {},
   "source": [
    "### 36. Replace every element in a list with its square."
   ]
  },
  {
   "cell_type": "code",
   "execution_count": 33,
   "id": "52513050",
   "metadata": {},
   "outputs": [
    {
     "name": "stdout",
     "output_type": "stream",
     "text": [
      "[4, 9, 36, 64]\n"
     ]
    }
   ],
   "source": [
    "l=[2,3,6,8]\n",
    "for i in l:\n",
    "    l[l.index(i)]=i**2\n",
    "print (l)"
   ]
  },
  {
   "cell_type": "markdown",
   "id": "6aa56b47",
   "metadata": {},
   "source": [
    "### 37. Convert a list to a dictionary where list elements become keys and their indices become values."
   ]
  },
  {
   "cell_type": "code",
   "execution_count": 3,
   "id": "e333e2ae",
   "metadata": {},
   "outputs": [
    {
     "name": "stdout",
     "output_type": "stream",
     "text": [
      "{'subh': 0, 'sudh': 1, 'sid': 2}\n"
     ]
    }
   ],
   "source": [
    "l=['subh','sudh','sid']\n",
    "names_dict={}\n",
    "for num,index in enumerate(l):\n",
    "    names_dict[index]= num\n",
    "\n",
    "print(names_dict)"
   ]
  },
  {
   "cell_type": "markdown",
   "id": "a48ea43c",
   "metadata": {},
   "source": [
    "### 38. Shuffle the elements of a list randomly.\n"
   ]
  },
  {
   "cell_type": "code",
   "execution_count": 5,
   "id": "cf535743",
   "metadata": {},
   "outputs": [
    {
     "name": "stdout",
     "output_type": "stream",
     "text": [
      "[7, 3, 5, 4, 2, 6]\n"
     ]
    }
   ],
   "source": [
    "import random\n",
    "l=[2,3,4,5,6,7]\n",
    "random.shuffle(l)\n",
    "print(l)"
   ]
  },
  {
   "cell_type": "markdown",
   "id": "f118e69b",
   "metadata": {},
   "source": [
    "### 39. Create a list of the first 10 factorial numbers."
   ]
  },
  {
   "cell_type": "code",
   "execution_count": 8,
   "id": "e5734b3d",
   "metadata": {},
   "outputs": [
    {
     "name": "stdout",
     "output_type": "stream",
     "text": [
      "[1, 2, 6, 24, 120, 720, 5040, 40320, 362880, 3628800]\n"
     ]
    }
   ],
   "source": [
    "fact_list=[]\n",
    "fact=1\n",
    "for i in range(1,11):\n",
    "    fact=fact*i\n",
    "    fact_list.append(fact)\n",
    "\n",
    "print(fact_list)"
   ]
  },
  {
   "cell_type": "markdown",
   "id": "d2e81f2c",
   "metadata": {},
   "source": [
    "### 40. Check if two lists have at least one element in common."
   ]
  },
  {
   "cell_type": "code",
   "execution_count": 20,
   "id": "b3ff7f42",
   "metadata": {},
   "outputs": [
    {
     "name": "stdout",
     "output_type": "stream",
     "text": [
      "no element is common\n"
     ]
    }
   ],
   "source": [
    "l1=[1,2,3,4,5,6]\n",
    "l2=[7,8,9,10]\n",
    "result1=0\n",
    "for i in l1:\n",
    "    for j in l2:\n",
    "        if i == j:\n",
    "            result1 += 1\n",
    "            break\n",
    "        else:\n",
    "            result1=0\n",
    "\n",
    "if result1!= 0:\n",
    "    print('atleast one element is common')\n",
    "else:\n",
    "    print('no element is common')"
   ]
  },
  {
   "cell_type": "markdown",
   "id": "78d80192",
   "metadata": {},
   "source": [
    "### 41. Remove all elements from a list"
   ]
  },
  {
   "cell_type": "code",
   "execution_count": 25,
   "metadata": {},
   "outputs": [
    {
     "name": "stdout",
     "output_type": "stream",
     "text": [
      "[]\n"
     ]
    }
   ],
   "source": [
    "l1=[1,2,3,4,5,6]\n",
    "for i in range(0,len(l1)):\n",
    "    l1.pop()\n",
    "\n",
    "print(l1)"
   ]
  },
  {
   "cell_type": "markdown",
   "id": "0f8d3e75",
   "metadata": {},
   "source": [
    "### 42. Replace negative numbers in a list with 0"
   ]
  },
  {
   "cell_type": "code",
   "execution_count": 53,
   "id": "5b58c1a2",
   "metadata": {},
   "outputs": [
    {
     "name": "stdout",
     "output_type": "stream",
     "text": [
      "[1, 2, 0]\n"
     ]
    }
   ],
   "source": [
    "l1=[1,2,-3]\n",
    "for number in l1:\n",
    "    if l1[number] <0:\n",
    "        l1[number]= 0\n",
    "\n",
    "print(l1)"
   ]
  },
  {
   "cell_type": "markdown",
   "id": "390a7ef1",
   "metadata": {},
   "source": [
    "### 43. Convert a string into a list of words."
   ]
  },
  {
   "cell_type": "code",
   "execution_count": 4,
   "id": "4b80ffc8",
   "metadata": {},
   "outputs": [
    {
     "name": "stdout",
     "output_type": "stream",
     "text": [
      "['hello', 'subho', 'here']\n"
     ]
    }
   ],
   "source": [
    "s= 'hello subho here'\n",
    "l=s.split(' ')\n",
    "print(l)"
   ]
  },
  {
   "cell_type": "markdown",
   "id": "d3db0cfc",
   "metadata": {},
   "source": [
    "### 44. Convert a list of words into a string"
   ]
  },
  {
   "cell_type": "code",
   "execution_count": 20,
   "id": "4ed08ee5",
   "metadata": {},
   "outputs": [
    {
     "name": "stdout",
     "output_type": "stream",
     "text": [
      " hello subho here \n"
     ]
    }
   ],
   "source": [
    "l=['hello', 'subho', 'here']\n",
    "s=' '\n",
    "for i in l:\n",
    "    s = s+i+' '\n",
    "print(s)\n"
   ]
  },
  {
   "cell_type": "markdown",
   "id": "bb8b471d",
   "metadata": {},
   "source": [
    "### 45. Create a list of the first `n` powers of 2."
   ]
  },
  {
   "cell_type": "code",
   "execution_count": 23,
   "id": "4c758a13",
   "metadata": {},
   "outputs": [
    {
     "name": "stdout",
     "output_type": "stream",
     "text": [
      "[0, 1, 4, 9, 16, 25]\n"
     ]
    }
   ],
   "source": [
    "n=6\n",
    "l=[i**2 for i in range(n)]\n",
    "print(l)"
   ]
  },
  {
   "cell_type": "markdown",
   "id": "31fbf34d",
   "metadata": {},
   "source": [
    "### 46. Find the longest string in a list of strings"
   ]
  },
  {
   "cell_type": "code",
   "execution_count": 63,
   "id": "8a7ba5e2",
   "metadata": {},
   "outputs": [
    {
     "name": "stdout",
     "output_type": "stream",
     "text": [
      "subhodip\n"
     ]
    }
   ],
   "source": [
    "l3=['hello', 'subh', 'here','subhodip','ok']\n",
    "max_len=0\n",
    "for word in l3:\n",
    "    if len(word)>max_len:\n",
    "        max_len=len(word)\n",
    "        max_word=word\n",
    "print(max_word)"
   ]
  },
  {
   "cell_type": "markdown",
   "id": "fa408e4c",
   "metadata": {},
   "source": [
    "### 47. Find the shortest string in a list of strings."
   ]
  },
  {
   "cell_type": "code",
   "execution_count": 57,
   "metadata": {},
   "outputs": [
    {
     "name": "stdout",
     "output_type": "stream",
     "text": [
      "ok\n"
     ]
    }
   ],
   "source": [
    "l=['hello', 'subh', 'here','subhodip','ok']\n",
    "shortest_word=min(l,key=len)\n",
    "print(shortest_word)"
   ]
  },
  {
   "cell_type": "markdown",
   "id": "9b8f08a2",
   "metadata": {},
   "source": [
    "### 48. Create a list of the first `n` triangular numbers."
   ]
  },
  {
   "cell_type": "code",
   "execution_count": 8,
   "id": "b1883ddc",
   "metadata": {},
   "outputs": [
    {
     "name": "stdout",
     "output_type": "stream",
     "text": [
      "[1, 3, 6, 10, 15]\n"
     ]
    }
   ],
   "source": [
    "def triangular_num_list(n):\n",
    "    triangular__list=[]\n",
    "    a=1\n",
    "    b=1\n",
    "    for i in range(1, n+1):\n",
    "        triangular__list.append(a)\n",
    "        b+=1\n",
    "        a+=b\n",
    "    return triangular__list\n",
    "\n",
    "n=int(input('Enter the value of n:'))\n",
    "print(triangular_num_list(n))"
   ]
  },
  {
   "cell_type": "markdown",
   "id": "c508cf34",
   "metadata": {},
   "source": [
    "### 49. Check if a list contains another list as a subsequence."
   ]
  },
  {
   "cell_type": "code",
   "execution_count": 10,
   "id": "172e2dc2",
   "metadata": {},
   "outputs": [
    {
     "name": "stdout",
     "output_type": "stream",
     "text": [
      "Main list contains the subsequence.\n"
     ]
    }
   ],
   "source": [
    "def is_present(subset, list1):\n",
    "    subset_index = 0 \n",
    "    for element in list1:\n",
    "        if element == subset[subset_index]:\n",
    "            subset_index += 1\n",
    "            if subset_index == len(subset):\n",
    "                return True\n",
    "    return False\n",
    "\n",
    "list1 = [1, 2, 3, 4, 5, 6, 7, 8, 9, 10]\n",
    "subset = [3, 5, 8]\n",
    "\n",
    "if is_present(subset, list1):\n",
    "    print(\"yes it contains the subset.\")\n",
    "else:\n",
    "    print(\"No it does not contain the subset.\")"
   ]
  },
  {
   "cell_type": "markdown",
   "id": "8f40eab3",
   "metadata": {},
   "source": [
    "### 50. Swap two elements in a list by their indices.\n"
   ]
  },
  {
   "cell_type": "code",
   "execution_count": 18,
   "id": "8578f093",
   "metadata": {},
   "outputs": [
    {
     "name": "stdout",
     "output_type": "stream",
     "text": [
      " after swapping : [1, 9, 3, 4, 5, 6, 7, 8, 2, 10]\n"
     ]
    }
   ],
   "source": [
    "my_list = [1,2,3,4,5,6,7,8,9,10]\n",
    "index1 =1\n",
    "index2 =8\n",
    "\n",
    "temp = my_list[index1]\n",
    "my_list[index1] = my_list[index2]\n",
    "my_list[index2] = temp\n",
    "\n",
    "print(\" after swapping :\", my_list)"
   ]
  },
  {
   "cell_type": "markdown",
   "id": "87c95253",
   "metadata": {},
   "source": [
    "## Tuple based practice problem :\n"
   ]
  },
  {
   "cell_type": "markdown",
   "id": "fa7b62ac",
   "metadata": {},
   "source": [
    "### 1. Create a tuple with integers from 1 to 5.\n"
   ]
  },
  {
   "cell_type": "code",
   "execution_count": 20,
   "id": "45f6f0a9",
   "metadata": {},
   "outputs": [
    {
     "name": "stdout",
     "output_type": "stream",
     "text": [
      "(1, 2, 3, 4, 5)\n"
     ]
    }
   ],
   "source": [
    "t=(1,2,3,4,5)\n",
    "print(t)"
   ]
  },
  {
   "cell_type": "markdown",
   "id": "e1ea3d3a",
   "metadata": {},
   "source": [
    "### 2. Access the third element of a tuple.\n"
   ]
  },
  {
   "cell_type": "code",
   "execution_count": 24,
   "id": "82517a13",
   "metadata": {},
   "outputs": [
    {
     "name": "stdout",
     "output_type": "stream",
     "text": [
      "third element: 4\n"
     ]
    }
   ],
   "source": [
    "t=(1,2,3,4,5)\n",
    "print('third element:',t[3])"
   ]
  },
  {
   "cell_type": "markdown",
   "id": "6227da31",
   "metadata": {},
   "source": [
    "### 3. Find the length of a tuple without using the `len()` function.\n"
   ]
  },
  {
   "cell_type": "code",
   "execution_count": 26,
   "id": "1443afbd",
   "metadata": {},
   "outputs": [
    {
     "name": "stdout",
     "output_type": "stream",
     "text": [
      "length of the touple is : 5\n"
     ]
    }
   ],
   "source": [
    "t=(1,2,3,4,5)\n",
    "count=0\n",
    "for i in t:\n",
    "    count+=1\n",
    "print('length of the touple is :',count )"
   ]
  },
  {
   "cell_type": "markdown",
   "id": "6ea68d92",
   "metadata": {},
   "source": [
    "### 4. Count the occurrences of an element in a tuple.\n"
   ]
  },
  {
   "cell_type": "code",
   "execution_count": 30,
   "id": "ebe37b5d",
   "metadata": {},
   "outputs": [
    {
     "name": "stdout",
     "output_type": "stream",
     "text": [
      "the total occurance of 4 is 2\n"
     ]
    }
   ],
   "source": [
    "t=(1,2,3,4,5,4,3,2,1)\n",
    "element=int(input('enter the element:'))\n",
    "count=0\n",
    "for i in t:\n",
    "    if i==element:\n",
    "        count+=1\n",
    "\n",
    "print(f'the total occurance of {element} is {count}')"
   ]
  },
  {
   "cell_type": "markdown",
   "id": "6efb28c5",
   "metadata": {},
   "source": [
    "### 5. Find the index of the first occurrence of an element in a tuple.\n"
   ]
  },
  {
   "cell_type": "code",
   "execution_count": 36,
   "id": "d18ac6da",
   "metadata": {},
   "outputs": [
    {
     "name": "stdout",
     "output_type": "stream",
     "text": [
      "first occurrance is at index : 0\n"
     ]
    }
   ],
   "source": [
    "t=(1,2,3,4,5,4,3,2,1)\n",
    "element=int(input('enter the element:'))\n",
    "index=0\n",
    "for i in t:\n",
    "    if i==element:\n",
    "        index=i-1\n",
    "        break\n",
    "\n",
    "print(f'first occurrance is at index : {index}')"
   ]
  },
  {
   "cell_type": "markdown",
   "id": "bdea4e90",
   "metadata": {},
   "source": [
    "### 6. Check if an element exists in a tuple.\n"
   ]
  },
  {
   "cell_type": "code",
   "execution_count": 41,
   "id": "cc3b5aeb",
   "metadata": {},
   "outputs": [
    {
     "name": "stdout",
     "output_type": "stream",
     "text": [
      "doesn't exist\n"
     ]
    }
   ],
   "source": [
    "t=(1,2,3,4,5,4,3,2,1)\n",
    "element=int(input('enter the element:'))\n",
    "\n",
    "if element in t:\n",
    "    print('yes exist')\n",
    "else:\n",
    "    print(\"doesn't exist\")"
   ]
  },
  {
   "cell_type": "markdown",
   "id": "6892ade6",
   "metadata": {},
   "source": [
    "### 7. Convert a tuple to a list.\n"
   ]
  },
  {
   "cell_type": "code",
   "execution_count": 43,
   "id": "06466c4d",
   "metadata": {},
   "outputs": [
    {
     "name": "stdout",
     "output_type": "stream",
     "text": [
      "(1, 2, 3, 4) <class 'tuple'>\n",
      "[1, 2, 3, 4] <class 'list'>\n"
     ]
    }
   ],
   "source": [
    "t=(1,2,3,4)\n",
    "l=list(t)\n",
    "print(t, type(t))\n",
    "print(l, type(l))\n"
   ]
  },
  {
   "cell_type": "markdown",
   "id": "cd5336c5",
   "metadata": {},
   "source": [
    "### 8. Convert a list to a tuple.\n"
   ]
  },
  {
   "cell_type": "code",
   "execution_count": 46,
   "id": "6bfd3918",
   "metadata": {},
   "outputs": [
    {
     "name": "stdout",
     "output_type": "stream",
     "text": [
      "{1, 2, 3, 4} <class 'set'>\n",
      "(1, 2, 3, 4) <class 'tuple'>\n"
     ]
    }
   ],
   "source": [
    "l={1,2,3,4}\n",
    "t=tuple(l)\n",
    "print(l, type(l))\n",
    "print(t, type(t))"
   ]
  },
  {
   "cell_type": "markdown",
   "id": "f0890fbb",
   "metadata": {},
   "source": [
    "### 9. Unpack the elements of a tuple into variables.\n"
   ]
  },
  {
   "cell_type": "code",
   "execution_count": 47,
   "id": "b8e7cc84",
   "metadata": {},
   "outputs": [
    {
     "name": "stdout",
     "output_type": "stream",
     "text": [
      "5\n",
      "6\n",
      "7\n"
     ]
    }
   ],
   "source": [
    "t=(5,6,7)\n",
    "v1,v2,v3=t\n",
    "print(v1)\n",
    "print(v2)\n",
    "print(v3)"
   ]
  },
  {
   "cell_type": "markdown",
   "id": "c2066a64",
   "metadata": {},
   "source": [
    "### 10. Create a tuple of even numbers from 1 to 10.\n"
   ]
  },
  {
   "cell_type": "code",
   "execution_count": 51,
   "id": "05e437e5",
   "metadata": {},
   "outputs": [
    {
     "name": "stdout",
     "output_type": "stream",
     "text": [
      "(2, 4, 6, 8, 10)\n"
     ]
    }
   ],
   "source": [
    "even_tuple=()\n",
    "even_numbers=[]\n",
    "for i in range(1,11):\n",
    "    if i%2==0:\n",
    "        even_numbers.append(i)\n",
    "\n",
    "even_tuple=tuple(even_numbers)\n",
    "print(even_tuple)"
   ]
  },
  {
   "cell_type": "markdown",
   "id": "d4f0760f",
   "metadata": {},
   "source": [
    "### 11. Create a tuple of odd numbers from 1 to 10.\n"
   ]
  },
  {
   "cell_type": "code",
   "execution_count": 53,
   "id": "323098b4",
   "metadata": {},
   "outputs": [
    {
     "name": "stdout",
     "output_type": "stream",
     "text": [
      "(1, 3, 5, 7, 9)\n"
     ]
    }
   ],
   "source": [
    "odd_tuple=()\n",
    "odd_numbers=[n for n in range(1,11,2)]\n",
    "odd_tuple=tuple(odd_numbers)\n",
    "print(odd_tuple)"
   ]
  },
  {
   "cell_type": "markdown",
   "id": "f6707cc2",
   "metadata": {},
   "source": [
    "### 12. Concatenate two tuples.\n"
   ]
  },
  {
   "cell_type": "code",
   "execution_count": 54,
   "id": "c2637f44",
   "metadata": {},
   "outputs": [
    {
     "name": "stdout",
     "output_type": "stream",
     "text": [
      "(1, 2, 3, 4, 5, 6)\n"
     ]
    }
   ],
   "source": [
    "t1=(1,2,3)\n",
    "t2=(4,5,6)\n",
    "t3=t1+t2\n",
    "print(t3)"
   ]
  },
  {
   "cell_type": "markdown",
   "id": "be40d5be",
   "metadata": {},
   "source": [
    "### 13. Repeat a tuple three times.\n"
   ]
  },
  {
   "cell_type": "code",
   "execution_count": 55,
   "id": "17c87da4",
   "metadata": {},
   "outputs": [
    {
     "name": "stdout",
     "output_type": "stream",
     "text": [
      "(1, 2, 3, 1, 2, 3, 1, 2, 3)\n"
     ]
    }
   ],
   "source": [
    "t1=(1,2,3)\n",
    "print(t1*3)"
   ]
  },
  {
   "cell_type": "markdown",
   "id": "1fc883c0",
   "metadata": {},
   "source": [
    "### 14. Check if a tuple is empty.\n"
   ]
  },
  {
   "cell_type": "code",
   "execution_count": 68,
   "id": "7ba8d587",
   "metadata": {},
   "outputs": [
    {
     "name": "stdout",
     "output_type": "stream",
     "text": [
      "it is empty\n"
     ]
    }
   ],
   "source": [
    "t1=()\n",
    "if len(t1)==0:\n",
    "    print('it is empty')\n",
    "else:\n",
    "    print('not empty')"
   ]
  },
  {
   "cell_type": "markdown",
   "id": "594666a9",
   "metadata": {},
   "source": [
    "### 15. Create a nested tuple.\n"
   ]
  },
  {
   "cell_type": "code",
   "execution_count": 63,
   "id": "27109c3e",
   "metadata": {},
   "outputs": [
    {
     "name": "stdout",
     "output_type": "stream",
     "text": [
      "((1, 2, 3), ('subh', 'sid'), (2.4, 5.9))\n"
     ]
    }
   ],
   "source": [
    "nested_tuple=((1,2,3),('subh','sid'),(2.4,5.9))\n",
    "print(nested_tuple)"
   ]
  },
  {
   "cell_type": "markdown",
   "id": "1194673e",
   "metadata": {},
   "source": [
    "### 16. Access the first element of a nested tuple.\n"
   ]
  },
  {
   "cell_type": "code",
   "execution_count": 66,
   "id": "24151156",
   "metadata": {},
   "outputs": [
    {
     "name": "stdout",
     "output_type": "stream",
     "text": [
      "(1, 2, 3)\n"
     ]
    }
   ],
   "source": [
    "nested_tuple=((1,2,3),('subh','sid'),(2.4,5.9))\n",
    "print(nested_tuple[0])"
   ]
  },
  {
   "cell_type": "markdown",
   "id": "8130d6bf",
   "metadata": {},
   "source": [
    "### 17. Create a tuple with a single element.\n"
   ]
  },
  {
   "cell_type": "code",
   "execution_count": 69,
   "id": "add709e9",
   "metadata": {},
   "outputs": [
    {
     "name": "stdout",
     "output_type": "stream",
     "text": [
      "(1,)\n"
     ]
    }
   ],
   "source": [
    "t=(1,)\n",
    "print(t)"
   ]
  },
  {
   "cell_type": "markdown",
   "id": "d9923174",
   "metadata": {},
   "source": [
    "### 18. Compare two tuples.\n"
   ]
  },
  {
   "cell_type": "code",
   "execution_count": 74,
   "id": "1255e71a",
   "metadata": {},
   "outputs": [
    {
     "name": "stdout",
     "output_type": "stream",
     "text": [
      "t1==t2 : False\n",
      "t1!=t2 : True\n",
      "t1>t2 : False\n",
      "t1>=t2 : False\n",
      "t1<t2 : True\n",
      "t1<=t2 : True\n"
     ]
    }
   ],
   "source": [
    "t1=(1,2,3)\n",
    "t2=(4,5,6)\n",
    "print(f't1==t2 : {t1==t2}')\n",
    "print(f't1!=t2 : {t1!=t2}')\n",
    "print(f't1>t2 : {t>t2}')\n",
    "print(f't1>=t2 : {t1>=t2}')\n",
    "print(f't1<t2 : {t1<t2}')\n",
    "print(f't1<=t2 : {t1<=t2}')\n"
   ]
  },
  {
   "cell_type": "markdown",
   "id": "29311136",
   "metadata": {},
   "source": [
    "### 19. Delete a tuple.\n"
   ]
  },
  {
   "cell_type": "code",
   "execution_count": 1,
   "id": "a01ad616",
   "metadata": {},
   "outputs": [
    {
     "name": "stdout",
     "output_type": "stream",
     "text": [
      "name 't' is not defined\n"
     ]
    }
   ],
   "source": [
    "t=(1,2,3)\n",
    "del t\n",
    "try:\n",
    "    print(t)\n",
    "except Exception as e:\n",
    "    print(e)"
   ]
  },
  {
   "cell_type": "markdown",
   "id": "30468587",
   "metadata": {},
   "source": [
    "### 20. Slice a tuple.\n"
   ]
  },
  {
   "cell_type": "code",
   "execution_count": 77,
   "id": "b252c960",
   "metadata": {},
   "outputs": [
    {
     "name": "stdout",
     "output_type": "stream",
     "text": [
      "(4, 5)\n"
     ]
    }
   ],
   "source": [
    "t=(1,2,3,4,5)\n",
    "t1=t[3:5]\n",
    "print(t1)"
   ]
  },
  {
   "cell_type": "markdown",
   "id": "28803c2c",
   "metadata": {},
   "source": [
    "### 21. Find the maximum value in a tuple.\n"
   ]
  },
  {
   "cell_type": "code",
   "execution_count": 79,
   "id": "8f541c92",
   "metadata": {},
   "outputs": [
    {
     "name": "stdout",
     "output_type": "stream",
     "text": [
      "5\n"
     ]
    }
   ],
   "source": [
    "t=(1,2,3,4,5)\n",
    "max_val=max(t)\n",
    "print(max_val)"
   ]
  },
  {
   "cell_type": "markdown",
   "id": "f0253c72",
   "metadata": {},
   "source": [
    "### 22. Find the minimum value in a tuple.\n"
   ]
  },
  {
   "cell_type": "code",
   "execution_count": 1,
   "id": "6cf85642",
   "metadata": {},
   "outputs": [
    {
     "name": "stdout",
     "output_type": "stream",
     "text": [
      "mimimum value: 1\n"
     ]
    }
   ],
   "source": [
    "t=(1,2,3,4,5)\n",
    "min_val=min(t)\n",
    "print(f'mimimum value: {min_val}')"
   ]
  },
  {
   "cell_type": "markdown",
   "id": "ed54999a",
   "metadata": {},
   "source": [
    "### 23. Convert a string to a tuple of characters.\n"
   ]
  },
  {
   "cell_type": "code",
   "execution_count": 3,
   "id": "6e87ed6d",
   "metadata": {},
   "outputs": [
    {
     "name": "stdout",
     "output_type": "stream",
     "text": [
      "('s', 'u', 'b', 'h')\n"
     ]
    }
   ],
   "source": [
    "s='subh'\n",
    "t=tuple(s)\n",
    "print(t)"
   ]
  },
  {
   "cell_type": "markdown",
   "id": "a1a6153c",
   "metadata": {},
   "source": [
    "### 24. Convert a tuple of characters to a string.\n"
   ]
  },
  {
   "cell_type": "code",
   "execution_count": 7,
   "id": "4ed7db22",
   "metadata": {},
   "outputs": [
    {
     "name": "stdout",
     "output_type": "stream",
     "text": [
      "subh\n"
     ]
    }
   ],
   "source": [
    "t=('s', 'u', 'b', 'h')\n",
    "s=''.join(t)\n",
    "print(s)"
   ]
  },
  {
   "cell_type": "markdown",
   "id": "dadf6bdc",
   "metadata": {},
   "source": [
    "### 25. Create a tuple from multiple data types.\n"
   ]
  },
  {
   "cell_type": "code",
   "execution_count": 8,
   "id": "4e800beb",
   "metadata": {},
   "outputs": [
    {
     "name": "stdout",
     "output_type": "stream",
     "text": [
      "(1, 2, True, 'subh', 4.5)\n"
     ]
    }
   ],
   "source": [
    "t=(1,2,True,\"subh\",4.5)\n",
    "print(t)"
   ]
  },
  {
   "cell_type": "markdown",
   "id": "8c47dbc2",
   "metadata": {},
   "source": [
    "### 26. Check if two tuples are identical.\n"
   ]
  },
  {
   "cell_type": "code",
   "execution_count": 10,
   "id": "41ccb492",
   "metadata": {},
   "outputs": [
    {
     "name": "stdout",
     "output_type": "stream",
     "text": [
      "t1 and t2 are identical: True\n",
      "t2 and t3 are identical: False\n"
     ]
    }
   ],
   "source": [
    "t1=(1,2,3)\n",
    "t2=(1,2,3)\n",
    "t3=(1,2,4)\n",
    "\n",
    "is_identical1= t1==t2\n",
    "is_identical2= t2==t3\n",
    "\n",
    "print(f't1 and t2 are identical: {is_identical1}')\n",
    "print(f't2 and t3 are identical: {is_identical2}')\n",
    "\n"
   ]
  },
  {
   "cell_type": "markdown",
   "id": "d95b2ae7",
   "metadata": {},
   "source": [
    "### 27. Sort the elements of a tuple.\n"
   ]
  },
  {
   "cell_type": "code",
   "execution_count": 13,
   "id": "0abdb474",
   "metadata": {},
   "outputs": [
    {
     "name": "stdout",
     "output_type": "stream",
     "text": [
      "sorted tuple : (1, 2, 4, 5, 7)\n"
     ]
    }
   ],
   "source": [
    "t=(1,5,4,7,2)\n",
    "l=list(t)\n",
    "sorted_list=sorted(l)\n",
    "print(f'sorted tuple : {tuple(sorted_list)}')"
   ]
  },
  {
   "cell_type": "markdown",
   "id": "4292a811",
   "metadata": {},
   "source": [
    "### 28. Convert a tuple of integers to a tuple of strings.\n"
   ]
  },
  {
   "cell_type": "code",
   "execution_count": 14,
   "id": "9b42491f",
   "metadata": {},
   "outputs": [
    {
     "name": "stdout",
     "output_type": "stream",
     "text": [
      "('1', '2', '3', '4')\n"
     ]
    }
   ],
   "source": [
    "t_int=(1,2,3,4)\n",
    "t_str=tuple(str(i) for i in t_int)\n",
    "print(t_str)"
   ]
  },
  {
   "cell_type": "markdown",
   "id": "9f481e88",
   "metadata": {},
   "source": [
    "### 29. Convert a tuple of strings to a tuple of integers.\n"
   ]
  },
  {
   "cell_type": "code",
   "execution_count": 16,
   "id": "9c4ea139",
   "metadata": {},
   "outputs": [
    {
     "name": "stdout",
     "output_type": "stream",
     "text": [
      "(1, 2, 3, 4)\n"
     ]
    }
   ],
   "source": [
    "t_str=('1', '2', '3', '4')\n",
    "t_int= tuple(int(i) for i in t_str)\n",
    "print(t_int)"
   ]
  },
  {
   "cell_type": "markdown",
   "id": "63020412",
   "metadata": {},
   "source": [
    "### 30. Merge two tuples.\n"
   ]
  },
  {
   "cell_type": "code",
   "execution_count": 18,
   "id": "c317b015",
   "metadata": {},
   "outputs": [
    {
     "name": "stdout",
     "output_type": "stream",
     "text": [
      "(1, 2, 3, 4, 5, 6)\n"
     ]
    }
   ],
   "source": [
    "t1=(1,2,3)\n",
    "t2=(4,5,6)\n",
    "merged_tuple= t1+t2\n",
    "print(merged_tuple)"
   ]
  },
  {
   "cell_type": "markdown",
   "id": "4777fa52",
   "metadata": {},
   "source": [
    "### 31. Flatten a nested tuple.\n"
   ]
  },
  {
   "cell_type": "code",
   "execution_count": 23,
   "id": "4fe08f70",
   "metadata": {},
   "outputs": [
    {
     "name": "stdout",
     "output_type": "stream",
     "text": [
      "(1, 2, 3, 4, 5, 6, 7, 8)\n"
     ]
    }
   ],
   "source": [
    "nested_tuple=((1,2),(3,4,5),(6,7),8)\n",
    "\n",
    "def flattend_tuple(f_tuple):\n",
    "    flattend_list=[]\n",
    "    for i in f_tuple:\n",
    "        if isinstance(i, tuple):\n",
    "            flattend_list.extend(flattend_tuple(i))\n",
    "        else:\n",
    "            flattend_list.append(i)\n",
    "    return tuple(flattend_list)\n",
    "    \n",
    "flat_tuple=flattend_tuple(nested_tuple)\n",
    "print(flat_tuple)"
   ]
  },
  {
   "cell_type": "markdown",
   "id": "17aa876f",
   "metadata": {},
   "source": [
    "### 32. Create a tuple of the first 5 prime numbers.\n"
   ]
  },
  {
   "cell_type": "code",
   "execution_count": 24,
   "id": "b5045217",
   "metadata": {},
   "outputs": [
    {
     "name": "stdout",
     "output_type": "stream",
     "text": [
      "(2, 3, 5, 7, 11)\n"
     ]
    }
   ],
   "source": [
    "def check_prime(num):\n",
    "    if num==0 or num==1:\n",
    "        return False\n",
    "    for i in range(2,num):\n",
    "        if num%i==0:\n",
    "            return False\n",
    "    return True\n",
    "\n",
    "prime_list=[ i for i in range(2,50) if check_prime(i)][:5]\n",
    "prime_tuple= tuple(prime_list)\n",
    "print(prime_tuple)\n"
   ]
  },
  {
   "cell_type": "markdown",
   "id": "83d0d2ac",
   "metadata": {},
   "source": [
    "### 33. Check if a tuple is a palindrome.\n"
   ]
  },
  {
   "cell_type": "code",
   "execution_count": 26,
   "id": "cc3fea96",
   "metadata": {},
   "outputs": [
    {
     "name": "stdout",
     "output_type": "stream",
     "text": [
      "no, not palindrome\n"
     ]
    }
   ],
   "source": [
    "tuple=(1,2,3,2,1,)\n",
    "reverse_tuple= tuple[::-1]\n",
    "\n",
    "if tuple==reverse_tuple:\n",
    "    print('yes,palindrome')\n",
    "else:\n",
    "    print('no, not palindrome')\n"
   ]
  },
  {
   "cell_type": "markdown",
   "id": "4cd7bf54",
   "metadata": {},
   "source": [
    "### 34. Create a tuple of squares of numbers from 1 to 5.\n"
   ]
  },
  {
   "cell_type": "code",
   "execution_count": 2,
   "id": "3361a0df",
   "metadata": {},
   "outputs": [
    {
     "name": "stdout",
     "output_type": "stream",
     "text": [
      "(1, 4, 9, 16, 25)\n"
     ]
    }
   ],
   "source": [
    "square_tuple= tuple(i**2 for i in range(1,6))\n",
    "print(square_tuple)"
   ]
  },
  {
   "cell_type": "markdown",
   "id": "e6127c82",
   "metadata": {},
   "source": [
    "### 35. Filter out all even numbers from a tuple.\n"
   ]
  },
  {
   "cell_type": "code",
   "execution_count": 3,
   "id": "ec68d7a1",
   "metadata": {},
   "outputs": [
    {
     "name": "stdout",
     "output_type": "stream",
     "text": [
      "(2, 4, 6)\n"
     ]
    }
   ],
   "source": [
    "t=(1,2,3,4,5,6,7)\n",
    "even_tuple= tuple(i for i in t if i%2==0)\n",
    "print(even_tuple)"
   ]
  },
  {
   "cell_type": "markdown",
   "id": "1752d679",
   "metadata": {},
   "source": [
    "### 36. Multiply all elements in a tuple by 2.\n"
   ]
  },
  {
   "cell_type": "code",
   "execution_count": 4,
   "id": "7885ec6c",
   "metadata": {},
   "outputs": [
    {
     "name": "stdout",
     "output_type": "stream",
     "text": [
      "(2, 4, 6)\n"
     ]
    }
   ],
   "source": [
    "t=(1,2,3)\n",
    "mul_tuple= tuple(i*2 for i in t)\n",
    "print(mul_tuple)"
   ]
  },
  {
   "cell_type": "markdown",
   "id": "9d4285fa",
   "metadata": {},
   "source": [
    "### 37. Create a tuple of random numbers.\n"
   ]
  },
  {
   "cell_type": "code",
   "execution_count": 5,
   "id": "95396877",
   "metadata": {},
   "outputs": [
    {
     "name": "stdout",
     "output_type": "stream",
     "text": [
      "(29, 17, 21, 27, 6)\n"
     ]
    }
   ],
   "source": [
    "import random\n",
    "random_tuple= tuple(random.randint(1,50) for _ in range(5))\n",
    "print(random_tuple)"
   ]
  },
  {
   "cell_type": "markdown",
   "id": "96b91c55",
   "metadata": {},
   "source": [
    "### 38. Check if a tuple is sorted.\n"
   ]
  },
  {
   "cell_type": "code",
   "execution_count": 7,
   "id": "8febc7ba",
   "metadata": {},
   "outputs": [
    {
     "name": "stdout",
     "output_type": "stream",
     "text": [
      "tuple1 : True\n",
      "tuple2 : False\n"
     ]
    }
   ],
   "source": [
    "def is_sorted(t):\n",
    "    for i in range(len(t)-1):\n",
    "        if t[i]>t[i+1]:\n",
    "            return False\n",
    "    return True\n",
    "    \n",
    "t1=(1,2,3)\n",
    "t2=(4,7,5)\n",
    "print(f'tuple1 : {is_sorted(t1)}')\n",
    "print(f'tuple2 : {is_sorted(t2)}')\n"
   ]
  },
  {
   "cell_type": "markdown",
   "id": "f63d435d",
   "metadata": {},
   "source": [
    "### 39. Rotate a tuple to the left by `n` positions.\n"
   ]
  },
  {
   "cell_type": "code",
   "execution_count": 9,
   "id": "55df50f0",
   "metadata": {},
   "outputs": [
    {
     "data": {
      "text/plain": [
       "(7, 8, 1, 2, 3, 4, 5, 6)"
      ]
     },
     "execution_count": 9,
     "metadata": {},
     "output_type": "execute_result"
    }
   ],
   "source": [
    "def rotate_tuple_left(t,n):\n",
    "    #t[n:] - elements from n, t[:n] elements before n\n",
    "    rotated_tuple= t[n:]+ t[:n]\n",
    "    return rotated_tuple\n",
    "\n",
    "t=(1,2,3,4,5,6,7,8)\n",
    "n=int(input('enter the index: '))\n",
    "rotate_tuple_left(t,n)"
   ]
  },
  {
   "cell_type": "markdown",
   "id": "9d94fbf6",
   "metadata": {},
   "source": [
    "### 40. Rotate a tuple to the right by `n` positions.\n"
   ]
  },
  {
   "cell_type": "code",
   "execution_count": 11,
   "id": "7729382d",
   "metadata": {},
   "outputs": [
    {
     "data": {
      "text/plain": [
       "(4, 5, 1, 2, 3)"
      ]
     },
     "execution_count": 11,
     "metadata": {},
     "output_type": "execute_result"
    }
   ],
   "source": [
    "def rotate_tuple_right(t,n):\n",
    "    rotated_tuple=t[-n:]+ t[:-n]\n",
    "    return rotated_tuple\n",
    "\n",
    "t=(1,2,3,4,5)\n",
    "n=int(input('enter the index: '))\n",
    "rotate_tuple_right(t,n)\n"
   ]
  },
  {
   "cell_type": "markdown",
   "id": "5cdb755f",
   "metadata": {},
   "source": [
    "### 41. Create a tuple of the first 5 Fibonacci numbers.\n"
   ]
  },
  {
   "cell_type": "code",
   "execution_count": 1,
   "id": "a9207d33",
   "metadata": {},
   "outputs": [
    {
     "name": "stdout",
     "output_type": "stream",
     "text": [
      "(0, 1, 1, 2, 3)\n"
     ]
    }
   ],
   "source": [
    "def fib(n):\n",
    "    fib_list=[0,1]\n",
    "    while len(fib_list)<n:\n",
    "        next_num=fib_list[-1]+fib_list[-2]\n",
    "        fib_list.append(next_num)\n",
    "    return fib_list\n",
    "\n",
    "fib_tuple= tuple(fib(5))\n",
    "print(fib_tuple)\n",
    "    "
   ]
  },
  {
   "cell_type": "markdown",
   "id": "6ddae5b2",
   "metadata": {},
   "source": [
    "### 42. Create a tuple from user input.\n"
   ]
  },
  {
   "cell_type": "code",
   "execution_count": 3,
   "id": "b6063419",
   "metadata": {},
   "outputs": [
    {
     "name": "stdout",
     "output_type": "stream",
     "text": [
      "('s', 'd', 'f', 'g')\n"
     ]
    }
   ],
   "source": [
    "n=int(input('enter the length of tuple:'))\n",
    "input_list=[]\n",
    "for i in range(1,n+1):\n",
    "    input_ele=input('enter elements: ')\n",
    "    input_list.append(input_ele)\n",
    "\n",
    "print(tuple(input_list))"
   ]
  },
  {
   "cell_type": "markdown",
   "id": "34d4b359",
   "metadata": {},
   "source": [
    "### 43. Swap two elements in a tuple.\n"
   ]
  },
  {
   "cell_type": "code",
   "execution_count": 7,
   "id": "07f59845",
   "metadata": {},
   "outputs": [
    {
     "name": "stdout",
     "output_type": "stream",
     "text": [
      "(3, 2, 1)\n"
     ]
    }
   ],
   "source": [
    "t=(1,2,3)\n",
    "l=list(t)\n",
    "temp=l[0]\n",
    "l[0]=l[2]\n",
    "l[2]=temp\n",
    "print(tuple(l))"
   ]
  },
  {
   "cell_type": "markdown",
   "id": "5681cc41",
   "metadata": {},
   "source": [
    "### 44. Reverse the elements of a tuple.\n"
   ]
  },
  {
   "cell_type": "code",
   "execution_count": 8,
   "id": "67731e7e",
   "metadata": {},
   "outputs": [
    {
     "name": "stdout",
     "output_type": "stream",
     "text": [
      "(4, 3, 2, 1)\n"
     ]
    }
   ],
   "source": [
    "t=(1,2,3,4)\n",
    "reverse_t = t[::-1]\n",
    "print(reverse_t)"
   ]
  },
  {
   "cell_type": "markdown",
   "id": "4602919e",
   "metadata": {},
   "source": [
    "### 45. Create a tuple of the first `n` powers of 2.\n"
   ]
  },
  {
   "cell_type": "code",
   "execution_count": 10,
   "id": "4d9f9f70",
   "metadata": {},
   "outputs": [
    {
     "name": "stdout",
     "output_type": "stream",
     "text": [
      "(1, 4, 9, 16, 25)\n"
     ]
    }
   ],
   "source": [
    "n=int(input('enter value of n:'))\n",
    "l=[i**2 for i in range(1,n+1)]\n",
    "print(tuple(l))"
   ]
  },
  {
   "cell_type": "markdown",
   "id": "61ce1962",
   "metadata": {},
   "source": [
    "### 46. Find the longest string in a tuple of strings.\n"
   ]
  },
  {
   "cell_type": "code",
   "execution_count": 11,
   "id": "822535e6",
   "metadata": {},
   "outputs": [
    {
     "name": "stdout",
     "output_type": "stream",
     "text": [
      "krishna\n"
     ]
    }
   ],
   "source": [
    "t=('subh','sudh','sid','krishna')\n",
    "longest_str= max(t, key=len)\n",
    "print(longest_str)"
   ]
  },
  {
   "cell_type": "markdown",
   "id": "a1443987",
   "metadata": {},
   "source": [
    "### 47. Find the shortest string in a tuple of strings.\n"
   ]
  },
  {
   "cell_type": "code",
   "execution_count": 12,
   "id": "dd9876e2",
   "metadata": {},
   "outputs": [
    {
     "name": "stdout",
     "output_type": "stream",
     "text": [
      "sid\n"
     ]
    }
   ],
   "source": [
    "t=('subh','sudh','sid','krishna')\n",
    "shortest_str= min(t,key=len)\n",
    "print(shortest_str)"
   ]
  },
  {
   "cell_type": "markdown",
   "id": "3d16e8dc",
   "metadata": {},
   "source": [
    "### 48. Create a tuple of the first `n` triangular numbers.\n"
   ]
  },
  {
   "cell_type": "code",
   "execution_count": 19,
   "id": "d66a3dda",
   "metadata": {},
   "outputs": [
    {
     "name": "stdout",
     "output_type": "stream",
     "text": [
      "[1, 3, 6, 10, 15, 21]\n"
     ]
    }
   ],
   "source": [
    "n=int(input('enter value of n:'))\n",
    "l=[]\n",
    "j=1\n",
    "k=1\n",
    "for i in range(n):\n",
    "    num=k\n",
    "    j=j+1\n",
    "    k=k+j\n",
    "    l.append(num)\n",
    "\n",
    "print(l)"
   ]
  },
  {
   "cell_type": "markdown",
   "id": "56e4751d",
   "metadata": {},
   "source": [
    "### 49. Check if a tuple contains another tuple as a subsequence.\n"
   ]
  },
  {
   "cell_type": "code",
   "execution_count": 28,
   "id": "581bf6a5",
   "metadata": {},
   "outputs": [
    {
     "name": "stdout",
     "output_type": "stream",
     "text": [
      "main_tuple contains sub_tuple1: True\n",
      "main_tuple contains sub_tuple2: False\n"
     ]
    }
   ],
   "source": [
    "main_tuple=(1,2,3,4,5)\n",
    "sub_tuple1=(2,3,4)\n",
    "sub_tuple2=(2,3,7)\n",
    "\n",
    "\n",
    "result1= set(sub_tuple1).issubset(main_tuple)\n",
    "result2= set(sub_tuple2).issubset(main_tuple)\n",
    "\n",
    "print('main_tuple contains sub_tuple1:',result1)\n",
    "print('main_tuple contains sub_tuple2:',result2)\n"
   ]
  },
  {
   "cell_type": "markdown",
   "id": "5b2259d7",
   "metadata": {},
   "source": [
    "### 50. Create a tuple of alternating 1s and 0s of length `n`.\n"
   ]
  },
  {
   "cell_type": "code",
   "execution_count": 29,
   "id": "788ffac9",
   "metadata": {},
   "outputs": [
    {
     "name": "stdout",
     "output_type": "stream",
     "text": [
      "(0, 1, 0, 1, 0, 1, 0, 1, 0, 1)\n"
     ]
    }
   ],
   "source": [
    "n=int(input('enter value of n:'))\n",
    "t=tuple(i%2 for i in range(n))\n",
    "print(t)"
   ]
  },
  {
   "cell_type": "markdown",
   "id": "1af935ef",
   "metadata": {},
   "source": [
    "## Set based problems:\n"
   ]
  },
  {
   "cell_type": "markdown",
   "id": "2a8a7b3c",
   "metadata": {},
   "source": [
    "### 1. Create a set with integers from 1 to 5\n"
   ]
  },
  {
   "cell_type": "code",
   "execution_count": 36,
   "id": "0e806433",
   "metadata": {},
   "outputs": [
    {
     "name": "stdout",
     "output_type": "stream",
     "text": [
      "{1, 2, 3, 4, 5}\n"
     ]
    }
   ],
   "source": [
    "s=set()\n",
    "for i in range(1,6):\n",
    "    s.add(i)\n",
    "print(s)"
   ]
  },
  {
   "cell_type": "markdown",
   "id": "04745f47",
   "metadata": {},
   "source": [
    "### 2. Add an element to a set\n"
   ]
  },
  {
   "cell_type": "code",
   "execution_count": 37,
   "id": "f71e698c",
   "metadata": {},
   "outputs": [
    {
     "name": "stdout",
     "output_type": "stream",
     "text": [
      "{1, 2, 3, 4, 5, 6}\n"
     ]
    }
   ],
   "source": [
    "s={1, 2, 3, 4, 5}\n",
    "s.add(6)\n",
    "print(s)"
   ]
  },
  {
   "cell_type": "markdown",
   "id": "715d42ff",
   "metadata": {},
   "source": [
    "### 3. Remove an element from a set.\n"
   ]
  },
  {
   "cell_type": "code",
   "execution_count": 38,
   "id": "1dfca3cf",
   "metadata": {},
   "outputs": [
    {
     "name": "stdout",
     "output_type": "stream",
     "text": [
      "{1, 2, 3, 4}\n"
     ]
    }
   ],
   "source": [
    "s={1, 2, 3, 4, 5}\n",
    "s.remove(5)\n",
    "print(s)"
   ]
  },
  {
   "cell_type": "markdown",
   "id": "46a55758",
   "metadata": {},
   "source": [
    "### 4. Check if an element exists in a set.\n"
   ]
  },
  {
   "cell_type": "code",
   "execution_count": 41,
   "id": "f7777e9d",
   "metadata": {},
   "outputs": [
    {
     "name": "stdout",
     "output_type": "stream",
     "text": [
      "doesnt exist\n"
     ]
    }
   ],
   "source": [
    "s={1, 2, 3, 4, 5}\n",
    "n=int(input('enter the element:'))\n",
    "if n in s:\n",
    "    print('exists')\n",
    "else:\n",
    "    print('doesnt exist')\n",
    "\n"
   ]
  },
  {
   "cell_type": "markdown",
   "id": "01c330a2",
   "metadata": {},
   "source": [
    "### 5. Find the length of a set without using the `len()` function\n"
   ]
  },
  {
   "cell_type": "code",
   "execution_count": 42,
   "id": "caf58d2c",
   "metadata": {},
   "outputs": [
    {
     "name": "stdout",
     "output_type": "stream",
     "text": [
      "5\n"
     ]
    }
   ],
   "source": [
    "s={1, 2, 3, 4, 5}\n",
    "count=0\n",
    "for i in s:\n",
    "    count+=1\n",
    "print(count)"
   ]
  },
  {
   "cell_type": "markdown",
   "id": "451a7947",
   "metadata": {},
   "source": [
    "### 6. Clear all elements from a set.\n"
   ]
  },
  {
   "cell_type": "code",
   "execution_count": 43,
   "id": "d09b570b",
   "metadata": {},
   "outputs": [
    {
     "name": "stdout",
     "output_type": "stream",
     "text": [
      "set()\n"
     ]
    }
   ],
   "source": [
    "s={1, 2, 3, 4, 5}\n",
    "s.clear()\n",
    "print(s)"
   ]
  },
  {
   "cell_type": "markdown",
   "id": "5cbb10e9",
   "metadata": {},
   "source": [
    "### 7. Create a set of even numbers from 1 to 10\n"
   ]
  },
  {
   "cell_type": "code",
   "execution_count": 44,
   "id": "b9d373e2",
   "metadata": {},
   "outputs": [
    {
     "name": "stdout",
     "output_type": "stream",
     "text": [
      "{2, 4, 6, 8, 10}\n"
     ]
    }
   ],
   "source": [
    "s=set()\n",
    "for i in range(1,11):\n",
    "    if i%2==0:\n",
    "        s.add(i)\n",
    "print(s)"
   ]
  },
  {
   "cell_type": "markdown",
   "id": "6977dbc8",
   "metadata": {},
   "source": [
    "### 8. Create a set of odd numbers from 1 to 10\n"
   ]
  },
  {
   "cell_type": "code",
   "execution_count": 45,
   "id": "ca931029",
   "metadata": {},
   "outputs": [
    {
     "name": "stdout",
     "output_type": "stream",
     "text": [
      "{1, 3, 5, 7, 9}\n"
     ]
    }
   ],
   "source": [
    "s=set()\n",
    "for i in range(1,11):\n",
    "    if i%2!=0:\n",
    "        s.add(i)\n",
    "print(s)"
   ]
  },
  {
   "cell_type": "markdown",
   "id": "fb36ed57",
   "metadata": {},
   "source": [
    "### 9. Find the union of two sets\n"
   ]
  },
  {
   "cell_type": "code",
   "execution_count": 46,
   "id": "215ca0c7",
   "metadata": {},
   "outputs": [
    {
     "name": "stdout",
     "output_type": "stream",
     "text": [
      "{1, 2, 3, 4, 5, 6, 7, 8, 9, 10}\n"
     ]
    }
   ],
   "source": [
    "s1={2, 4, 6, 8, 10}\n",
    "s2={1, 3, 5, 7, 9}\n",
    "union_set=s1.union(s2)\n",
    "print(union_set)"
   ]
  },
  {
   "cell_type": "markdown",
   "id": "aea17fad",
   "metadata": {},
   "source": [
    "### 10. Find the intersection of two sets\n"
   ]
  },
  {
   "cell_type": "code",
   "execution_count": 48,
   "id": "a986c489",
   "metadata": {},
   "outputs": [
    {
     "name": "stdout",
     "output_type": "stream",
     "text": [
      "{10}\n"
     ]
    }
   ],
   "source": [
    "s1={2, 4, 6, 8, 10}\n",
    "s2={1, 3, 5, 7, 9, 10}\n",
    "i_set= s1.intersection(s2)\n",
    "print(i_set)"
   ]
  },
  {
   "cell_type": "markdown",
   "id": "857e03d1",
   "metadata": {},
   "source": [
    "### 11. Find the difference between two sets.\n"
   ]
  },
  {
   "cell_type": "code",
   "execution_count": 49,
   "id": "bbedad2a",
   "metadata": {},
   "outputs": [
    {
     "name": "stdout",
     "output_type": "stream",
     "text": [
      "{8, 2, 4, 6}\n"
     ]
    }
   ],
   "source": [
    "s1={2, 4, 6, 8, 10}\n",
    "s2={1, 3, 5, 7, 9, 10}\n",
    "d_set= s1.difference(s2)\n",
    "print(d_set)"
   ]
  },
  {
   "cell_type": "markdown",
   "id": "c2c2874e",
   "metadata": {},
   "source": [
    "### 12. Check if a set is a subset of another set.\n"
   ]
  },
  {
   "cell_type": "code",
   "execution_count": 54,
   "id": "16d07fc5",
   "metadata": {},
   "outputs": [
    {
     "name": "stdout",
     "output_type": "stream",
     "text": [
      "s2 is a sub set of s1: True\n"
     ]
    }
   ],
   "source": [
    "s1={1,2,3,4,5}\n",
    "s2={2,3}\n",
    "is_sub= s2.issubset(s1)\n",
    "print('s2 is a sub set of s1:',is_sub)"
   ]
  },
  {
   "cell_type": "markdown",
   "id": "a7e718b9",
   "metadata": {},
   "source": [
    "### 13. Check if a set is a superset of another set.\n"
   ]
  },
  {
   "cell_type": "code",
   "execution_count": 53,
   "id": "f1ce7a99",
   "metadata": {},
   "outputs": [
    {
     "name": "stdout",
     "output_type": "stream",
     "text": [
      "s1 is a super set of s2: True\n"
     ]
    }
   ],
   "source": [
    "s1={1,2,3,4,5}\n",
    "s2={2,3}\n",
    "is_sup= s1.issuperset(s2)\n",
    "print('s1 is a super set of s2:',is_sup)"
   ]
  },
  {
   "cell_type": "markdown",
   "id": "6292b6ee",
   "metadata": {},
   "source": [
    "### 14. Create a set from a list\n"
   ]
  },
  {
   "cell_type": "code",
   "execution_count": 55,
   "id": "a5174829",
   "metadata": {},
   "outputs": [
    {
     "name": "stdout",
     "output_type": "stream",
     "text": [
      "{1, 2, 3}\n"
     ]
    }
   ],
   "source": [
    "l=[1,2,3]\n",
    "s=set(l)\n",
    "print(s)"
   ]
  },
  {
   "cell_type": "markdown",
   "id": "e6ac1bd8",
   "metadata": {},
   "source": [
    "### 15. Convert a set to a list.\n"
   ]
  },
  {
   "cell_type": "code",
   "execution_count": 56,
   "id": "11ad8932",
   "metadata": {},
   "outputs": [
    {
     "name": "stdout",
     "output_type": "stream",
     "text": [
      "[1, 2, 3]\n"
     ]
    }
   ],
   "source": [
    "s={1,2,3}\n",
    "l=list(s)\n",
    "print(l)"
   ]
  },
  {
   "cell_type": "markdown",
   "id": "87c8a75d",
   "metadata": {},
   "source": [
    "### 16. Remove a random element from a set.\n"
   ]
  },
  {
   "cell_type": "code",
   "execution_count": 60,
   "id": "7706a951",
   "metadata": {},
   "outputs": [
    {
     "name": "stdout",
     "output_type": "stream",
     "text": [
      "{1, 2}\n"
     ]
    }
   ],
   "source": [
    "import random\n",
    "s={1,2,3}\n",
    "element=random.choice(list(s))\n",
    "s.remove(element)\n",
    "print(s)"
   ]
  },
  {
   "cell_type": "markdown",
   "id": "ef9b4c29",
   "metadata": {},
   "source": [
    "### 17. Pop an element from a set.\n"
   ]
  },
  {
   "cell_type": "code",
   "execution_count": 62,
   "id": "60b56032",
   "metadata": {},
   "outputs": [
    {
     "name": "stdout",
     "output_type": "stream",
     "text": [
      "{2, 3}\n"
     ]
    }
   ],
   "source": [
    "s={1,2,3}\n",
    "s.pop()\n",
    "print(s)"
   ]
  },
  {
   "cell_type": "markdown",
   "id": "fd6b2573",
   "metadata": {},
   "source": [
    "### 18. Check if two sets have no elements in common.\n"
   ]
  },
  {
   "cell_type": "code",
   "execution_count": 66,
   "id": "94575a63",
   "metadata": {},
   "outputs": [
    {
     "name": "stdout",
     "output_type": "stream",
     "text": [
      "have common elements\n"
     ]
    }
   ],
   "source": [
    "s1={1,2,3}\n",
    "s2={3,4,5}\n",
    "\n",
    "result=s1.intersection(s2)\n",
    "if not result:\n",
    "    print('no common elements')\n",
    "else:\n",
    "    print('have common elements')"
   ]
  },
  {
   "cell_type": "markdown",
   "id": "32a899e4",
   "metadata": {},
   "source": [
    "### 19. Find the symmetric difference between two sets.\n"
   ]
  },
  {
   "cell_type": "code",
   "execution_count": 67,
   "id": "114e415a",
   "metadata": {},
   "outputs": [
    {
     "name": "stdout",
     "output_type": "stream",
     "text": [
      "{1, 2, 4, 5}\n"
     ]
    }
   ],
   "source": [
    "s1={1,2,3}\n",
    "s2={3,4,5}\n",
    "\n",
    "sym_diff= s1^s2\n",
    "print(sym_diff)"
   ]
  },
  {
   "cell_type": "markdown",
   "id": "4b909a33",
   "metadata": {},
   "source": [
    "### 20. Update a set with elements from another set.\n"
   ]
  },
  {
   "cell_type": "code",
   "execution_count": 68,
   "id": "a98ae2cb",
   "metadata": {},
   "outputs": [
    {
     "name": "stdout",
     "output_type": "stream",
     "text": [
      "{1, 2, 3, 4, 5}\n"
     ]
    }
   ],
   "source": [
    "s1={1,2,3}\n",
    "s2={3,4,5}\n",
    "s1.update(s2)\n",
    "print(s1)"
   ]
  },
  {
   "cell_type": "markdown",
   "id": "5c49f15c",
   "metadata": {},
   "source": [
    "### 21. Create a set of the first 5 prime numbers.\n"
   ]
  },
  {
   "cell_type": "code",
   "execution_count": 7,
   "id": "38f21a47",
   "metadata": {},
   "outputs": [
    {
     "name": "stdout",
     "output_type": "stream",
     "text": [
      "{2, 3, 5, 7, 11}\n"
     ]
    }
   ],
   "source": [
    "def is_prime(n):\n",
    "    if n<=1:\n",
    "        return False\n",
    "    for i in range(2,n):\n",
    "        if n%i==0:\n",
    "            return False\n",
    "    return True\n",
    "\n",
    "s=set([i for i in range(2,40) if is_prime(i)][:5])\n",
    "print(s)"
   ]
  },
  {
   "cell_type": "markdown",
   "id": "dc7df2f5",
   "metadata": {},
   "source": [
    "### 22. Check if two sets are identical.\n"
   ]
  },
  {
   "cell_type": "code",
   "execution_count": 8,
   "id": "4d640426",
   "metadata": {},
   "outputs": [
    {
     "name": "stdout",
     "output_type": "stream",
     "text": [
      "identical\n"
     ]
    }
   ],
   "source": [
    "s1={1,2,3,4,5}\n",
    "s2={2,1,3,5,4}\n",
    "if s1==s2:\n",
    "    print('identical')\n",
    "else:\n",
    "    print('not identical')"
   ]
  },
  {
   "cell_type": "markdown",
   "id": "c68399d3",
   "metadata": {},
   "source": [
    "### 23. Create a frozen set\n"
   ]
  },
  {
   "cell_type": "code",
   "execution_count": 9,
   "id": "056362e5",
   "metadata": {},
   "outputs": [
    {
     "name": "stdout",
     "output_type": "stream",
     "text": [
      "frozenset({1, 2, 3, 4})\n"
     ]
    }
   ],
   "source": [
    "s={1,2,3,4}\n",
    "f_s= frozenset(s)\n",
    "print(f_s)"
   ]
  },
  {
   "cell_type": "markdown",
   "id": "52b0f086",
   "metadata": {},
   "source": [
    "### 24. Check if a set is disjoint with another set.\n"
   ]
  },
  {
   "cell_type": "code",
   "execution_count": 10,
   "id": "707ca343",
   "metadata": {},
   "outputs": [
    {
     "name": "stdout",
     "output_type": "stream",
     "text": [
      "True\n"
     ]
    }
   ],
   "source": [
    "s1={1,2,3,4}\n",
    "s2={5,6,7,8}\n",
    "is_disjoint = s1.isdisjoint(s2)\n",
    "print(is_disjoint)"
   ]
  },
  {
   "cell_type": "markdown",
   "id": "16e9509b",
   "metadata": {},
   "source": [
    "### 25. Create a set of squares of numbers from 1 to 5.\n"
   ]
  },
  {
   "cell_type": "code",
   "execution_count": 12,
   "id": "de35dbd4",
   "metadata": {},
   "outputs": [
    {
     "name": "stdout",
     "output_type": "stream",
     "text": [
      "{16, 1, 4, 9, 25}\n"
     ]
    }
   ],
   "source": [
    "s=set({i**2 for i in range(1,6)})\n",
    "print(s)\n"
   ]
  },
  {
   "cell_type": "markdown",
   "id": "5c77b0ad",
   "metadata": {},
   "source": [
    "### 26. Filter out all even numbers from a set.\n"
   ]
  },
  {
   "cell_type": "code",
   "execution_count": 13,
   "id": "057f4101",
   "metadata": {},
   "outputs": [
    {
     "name": "stdout",
     "output_type": "stream",
     "text": [
      "{8, 2, 4, 6}\n"
     ]
    }
   ],
   "source": [
    "s={1,2,3,4,5,6,7,8}\n",
    "even_set=set()\n",
    "for i in s:\n",
    "    if i%2==0:\n",
    "        even_set.add(i)\n",
    "\n",
    "print(even_set)"
   ]
  },
  {
   "cell_type": "markdown",
   "id": "134ff029",
   "metadata": {},
   "source": [
    "### 27. Multiply all elements in a set by 2.\n"
   ]
  },
  {
   "cell_type": "code",
   "execution_count": 14,
   "id": "4d812991",
   "metadata": {},
   "outputs": [
    {
     "name": "stdout",
     "output_type": "stream",
     "text": [
      "{8, 2, 4, 6}\n"
     ]
    }
   ],
   "source": [
    "s={1,2,3,4}\n",
    "new_s=set()\n",
    "for i in s:\n",
    "    new_s.add(i*2)\n",
    "\n",
    "print(new_s)"
   ]
  },
  {
   "cell_type": "markdown",
   "id": "f814ec5d",
   "metadata": {},
   "source": [
    "### 28. Create a set of random numbers.\n"
   ]
  },
  {
   "cell_type": "code",
   "execution_count": 17,
   "id": "3c652a31",
   "metadata": {},
   "outputs": [
    {
     "name": "stdout",
     "output_type": "stream",
     "text": [
      "{2, 3, 37, 38, 42, 12, 46, 21, 23}\n"
     ]
    }
   ],
   "source": [
    "import random\n",
    "s = set()\n",
    "for i in range(10):\n",
    "    s.add(random.randint(1,50))\n",
    "\n",
    "print(s)"
   ]
  },
  {
   "cell_type": "markdown",
   "id": "cf81095c",
   "metadata": {},
   "source": [
    "### 29. Check if a set is empty.\n"
   ]
  },
  {
   "cell_type": "code",
   "execution_count": 23,
   "id": "aa150737",
   "metadata": {},
   "outputs": [
    {
     "name": "stdout",
     "output_type": "stream",
     "text": [
      "empty\n"
     ]
    }
   ],
   "source": [
    "s=set()\n",
    "if not s:\n",
    "    print('empty')\n",
    "else:\n",
    "    print('not empty')"
   ]
  },
  {
   "cell_type": "markdown",
   "id": "4a1dc0b8",
   "metadata": {},
   "source": [
    "### 30. Create a nested set (hint: use frozenset).\n"
   ]
  },
  {
   "cell_type": "code",
   "execution_count": 24,
   "id": "bba20c49",
   "metadata": {},
   "outputs": [
    {
     "name": "stdout",
     "output_type": "stream",
     "text": [
      "{frozenset({1, 2, 3}), frozenset({4, 5, 6})}\n"
     ]
    }
   ],
   "source": [
    "s1={1,2,3}\n",
    "s2={4,5,6}\n",
    "f1= frozenset(s1)\n",
    "f2= frozenset(s2)\n",
    "nested_set= {f1,f2}\n",
    "print(nested_set)"
   ]
  },
  {
   "cell_type": "markdown",
   "id": "7b9c4008",
   "metadata": {},
   "source": [
    "### 31.  Remove an element from a set using the discard method.\n"
   ]
  },
  {
   "cell_type": "code",
   "execution_count": 25,
   "id": "4f3ab326",
   "metadata": {},
   "outputs": [
    {
     "name": "stdout",
     "output_type": "stream",
     "text": [
      "{1, 2}\n"
     ]
    }
   ],
   "source": [
    "s1={1,2,3}\n",
    "s1.discard(3)\n",
    "print(s1)"
   ]
  },
  {
   "cell_type": "markdown",
   "id": "d4043343",
   "metadata": {},
   "source": [
    "### 32. Compare two sets.\n"
   ]
  },
  {
   "cell_type": "code",
   "execution_count": 29,
   "id": "f36ebab5",
   "metadata": {},
   "outputs": [
    {
     "name": "stdout",
     "output_type": "stream",
     "text": [
      "s1: {8, 1, 2, 3}\n",
      "s2: {8, 4, 5, 6}\n",
      "s1 is a subset of s2? :  False\n",
      "s2 is a subset of s1? :  False\n",
      "s1 is a superset of s2? :  False\n",
      "s2 is a superset of s1? :  False\n",
      "intersection :  {8}\n",
      "union :  {1, 2, 3, 4, 5, 6, 8}\n",
      "difference of s1 from s2 :  {1, 2, 3}\n",
      "difference of s2 from s1 :  {4, 5, 6}\n"
     ]
    }
   ],
   "source": [
    "s1={1,2,3,8}\n",
    "s2={4,5,6,8}\n",
    "\n",
    "print('s1:',s1)\n",
    "print('s2:',s2)\n",
    "\n",
    "print('s1 is a subset of s2? : ',s1.issubset(s2))\n",
    "print('s2 is a subset of s1? : ',s2.issubset(s1))\n",
    "\n",
    "print('s1 is a superset of s2? : ',s1.issuperset(s2))\n",
    "print('s2 is a superset of s1? : ',s2.issuperset(s1))\n",
    "\n",
    "print('intersection : ',s1.intersection(s2))\n",
    "print('union : ', s1.union(s2))\n",
    "\n",
    "print('difference of s1 from s2 : ',s1.difference(s2))\n",
    "print('difference of s2 from s1 : ',s2.difference(s1))\n"
   ]
  },
  {
   "cell_type": "markdown",
   "id": "3110fde6",
   "metadata": {},
   "source": [
    "### 33. Create a set from a string.\n"
   ]
  },
  {
   "cell_type": "code",
   "execution_count": 30,
   "id": "6305420a",
   "metadata": {},
   "outputs": [
    {
     "name": "stdout",
     "output_type": "stream",
     "text": [
      "{'u', 'h', 'b', 's'}\n"
     ]
    }
   ],
   "source": [
    "string='subh'\n",
    "s=set(string)\n",
    "print(s)"
   ]
  },
  {
   "cell_type": "markdown",
   "id": "ff630139",
   "metadata": {},
   "source": [
    "### 34. Convert a set of strings to a set of integers.\n"
   ]
  },
  {
   "cell_type": "code",
   "execution_count": 31,
   "id": "a7c6ebc5",
   "metadata": {},
   "outputs": [
    {
     "name": "stdout",
     "output_type": "stream",
     "text": [
      "{56, 34, 12}\n"
     ]
    }
   ],
   "source": [
    "s_string={'12','34','56'}\n",
    "s_int=set()\n",
    "\n",
    "for i in s_string:\n",
    "    s_int.add(int(i))\n",
    "\n",
    "print(s_int)"
   ]
  },
  {
   "cell_type": "markdown",
   "id": "2e089d3f",
   "metadata": {},
   "source": [
    "### 35. Convert a set of integers to a set of strings.\n"
   ]
  },
  {
   "cell_type": "code",
   "execution_count": 33,
   "id": "5701090c",
   "metadata": {},
   "outputs": [
    {
     "name": "stdout",
     "output_type": "stream",
     "text": [
      "{'54', '36', '12'}\n"
     ]
    }
   ],
   "source": [
    "s_int={12,36,54}\n",
    "s_string=set()\n",
    "\n",
    "for i in s_int:\n",
    "    s_string.add(str(i))\n",
    "\n",
    "print(s_string)"
   ]
  },
  {
   "cell_type": "markdown",
   "id": "41f6fc12",
   "metadata": {},
   "source": [
    "### 36. Create a set from a tuple.\n"
   ]
  },
  {
   "cell_type": "code",
   "execution_count": 35,
   "id": "ce706ee3",
   "metadata": {},
   "outputs": [
    {
     "name": "stdout",
     "output_type": "stream",
     "text": [
      "{1, 2, 3}\n"
     ]
    }
   ],
   "source": [
    "t=(1,2,3)\n",
    "s=set(t)\n",
    "print(s)"
   ]
  },
  {
   "cell_type": "markdown",
   "id": "1399c192",
   "metadata": {},
   "source": [
    "### 37. Convert a set to a tuple.\n"
   ]
  },
  {
   "cell_type": "code",
   "execution_count": 36,
   "id": "3aba2e91",
   "metadata": {},
   "outputs": [
    {
     "name": "stdout",
     "output_type": "stream",
     "text": [
      "(1, 2, 3)\n"
     ]
    }
   ],
   "source": [
    "s={1,2,3}\n",
    "t=tuple(s)\n",
    "print(t)"
   ]
  },
  {
   "cell_type": "markdown",
   "id": "ba306b32",
   "metadata": {},
   "source": [
    "### 38. Find the maximum value in a set.\n"
   ]
  },
  {
   "cell_type": "code",
   "execution_count": 37,
   "id": "247184ca",
   "metadata": {},
   "outputs": [
    {
     "name": "stdout",
     "output_type": "stream",
     "text": [
      "3\n"
     ]
    }
   ],
   "source": [
    "s={1,2,3}\n",
    "max_val=max(s)\n",
    "print(max_val)"
   ]
  },
  {
   "cell_type": "markdown",
   "id": "965274ce",
   "metadata": {},
   "source": [
    "### 39. Find the minimum value in a set.\n"
   ]
  },
  {
   "cell_type": "code",
   "execution_count": 38,
   "id": "e8600fd9",
   "metadata": {},
   "outputs": [
    {
     "name": "stdout",
     "output_type": "stream",
     "text": [
      "1\n"
     ]
    }
   ],
   "source": [
    "s={1,2,3}\n",
    "min_val=min(s)\n",
    "print(min_val)"
   ]
  },
  {
   "cell_type": "markdown",
   "id": "e14fbe77",
   "metadata": {},
   "source": [
    "### 40. Create a set from user input.\n"
   ]
  },
  {
   "cell_type": "code",
   "execution_count": 41,
   "id": "0a615839",
   "metadata": {},
   "outputs": [
    {
     "name": "stdout",
     "output_type": "stream",
     "text": [
      "{1, 2, 3}\n"
     ]
    }
   ],
   "source": [
    "s=set()\n",
    "n=3\n",
    "element=0\n",
    "for i in range(n):\n",
    "    element=int(input('enter an element : '))\n",
    "    s.add(element)\n",
    "\n",
    "print(s)"
   ]
  },
  {
   "cell_type": "markdown",
   "id": "ceae4625",
   "metadata": {},
   "source": [
    "### 41. Check if the intersection of two sets is empty.\n"
   ]
  },
  {
   "cell_type": "code",
   "execution_count": 44,
   "id": "3d60dacd",
   "metadata": {},
   "outputs": [
    {
     "name": "stdout",
     "output_type": "stream",
     "text": [
      "empty\n"
     ]
    }
   ],
   "source": [
    "s1={1,2,3}\n",
    "s2={4,5,6}\n",
    "\n",
    "intersection_set= s1.intersection(s2)\n",
    "\n",
    "if not intersection_set:\n",
    "    print('empty')\n",
    "else:\n",
    "    print('not empty')"
   ]
  },
  {
   "cell_type": "markdown",
   "id": "90fe5777",
   "metadata": {},
   "source": [
    "### 42. Create a set of the first 5 Fibonacci numbers.\n"
   ]
  },
  {
   "cell_type": "code",
   "execution_count": 3,
   "id": "d9439321",
   "metadata": {},
   "outputs": [
    {
     "name": "stdout",
     "output_type": "stream",
     "text": [
      "{0, 1, 2, 3}\n"
     ]
    }
   ],
   "source": [
    "def fib(n):\n",
    "    fib_list=[0,1]\n",
    "    while len(fib_list)<5:\n",
    "        next_num= fib_list[-1] + fib_list[-2]\n",
    "        fib_list.append(next_num)\n",
    "    return set(fib_list)\n",
    "fib_set=fib(5)\n",
    "print(fib_set)"
   ]
  },
  {
   "cell_type": "markdown",
   "id": "f59c5fe5",
   "metadata": {},
   "source": [
    "### 43. Remove duplicates from a list using sets.\n"
   ]
  },
  {
   "cell_type": "code",
   "execution_count": 6,
   "id": "46f4d0da",
   "metadata": {},
   "outputs": [
    {
     "name": "stdout",
     "output_type": "stream",
     "text": [
      "[1, 2, 3, 4, 6]\n"
     ]
    }
   ],
   "source": [
    "l=[1,2,3,4,2,3,4,6]\n",
    "s=set(l)\n",
    "new_l=list(s)\n",
    "print(new_l)"
   ]
  },
  {
   "cell_type": "markdown",
   "id": "1e1f62e6",
   "metadata": {},
   "source": [
    "### 44. Check if two sets have the same elements, regardless of their count.\n"
   ]
  },
  {
   "cell_type": "code",
   "execution_count": 8,
   "id": "764ca90e",
   "metadata": {},
   "outputs": [
    {
     "name": "stdout",
     "output_type": "stream",
     "text": [
      "yes, have same elements\n"
     ]
    }
   ],
   "source": [
    "s1={1,2,3}\n",
    "s2={1,3,2,3,1}\n",
    "\n",
    "if s1==s2:\n",
    "    print('yes, have same elements')\n",
    "else:\n",
    "    print('no, dont have same elements')"
   ]
  },
  {
   "cell_type": "markdown",
   "id": "e2f3f819",
   "metadata": {},
   "source": [
    "### 45. Create a set of the first `n` powers of 2\n"
   ]
  },
  {
   "cell_type": "code",
   "execution_count": 20,
   "id": "b31df301",
   "metadata": {},
   "outputs": [
    {
     "name": "stdout",
     "output_type": "stream",
     "text": [
      "{1, 4, 9, 16, 25}\n"
     ]
    }
   ],
   "source": [
    "n=int(input('enter value of n:'))\n",
    "s1=set([i**2 for i in range(1,n+1)])\n",
    "print(s1)"
   ]
  },
  {
   "cell_type": "markdown",
   "id": "34250a45",
   "metadata": {},
   "source": [
    "### 46. Find the common elements between a set and a list.\n"
   ]
  },
  {
   "cell_type": "code",
   "execution_count": 18,
   "id": "6121c7b2",
   "metadata": {},
   "outputs": [
    {
     "name": "stdout",
     "output_type": "stream",
     "text": [
      "{1, 2, 5}\n"
     ]
    }
   ],
   "source": [
    "s1={1,2,3,5}\n",
    "l=[1,2,5,6]\n",
    "\n",
    "s2=set(l)\n",
    "\n",
    "common_elements=s1.intersection(s2)\n",
    "print(common_elements)"
   ]
  },
  {
   "cell_type": "markdown",
   "id": "efdab8bb",
   "metadata": {},
   "source": [
    "### 47. Create a set of the first `n` triangular numbers.:"
   ]
  },
  {
   "cell_type": "code",
   "execution_count": 23,
   "id": "ce52b9d2",
   "metadata": {},
   "outputs": [
    {
     "name": "stdout",
     "output_type": "stream",
     "text": [
      "{1, 3, 6, 10, 15}\n"
     ]
    }
   ],
   "source": [
    "n=int(input('enter value of n:'))\n",
    "s1=set()\n",
    "j=1\n",
    "k=1\n",
    "for i in range(1,n+1):\n",
    "    i=j\n",
    "    s1.add(i)\n",
    "    k+=1\n",
    "    j=j+k\n",
    "    \n",
    "print(s1)"
   ]
  },
  {
   "cell_type": "markdown",
   "id": "aaa28fdb",
   "metadata": {},
   "source": [
    "### 48. Check if a set contains another set as a subset.\n"
   ]
  },
  {
   "cell_type": "code",
   "execution_count": 26,
   "id": "101c126c",
   "metadata": {},
   "outputs": [
    {
     "name": "stdout",
     "output_type": "stream",
     "text": [
      "True\n"
     ]
    }
   ],
   "source": [
    "s1={1,2,3,4,5,6}\n",
    "s2={1,2,3}\n",
    "\n",
    "result=s2.issubset(s1)\n",
    "print(result)"
   ]
  },
  {
   "cell_type": "markdown",
   "id": "9b220697",
   "metadata": {},
   "source": [
    "### 49. Create a set of alternating 1s and 0s of length `n`.\n"
   ]
  },
  {
   "cell_type": "code",
   "execution_count": 28,
   "id": "54ee999e",
   "metadata": {},
   "outputs": [
    {
     "name": "stdout",
     "output_type": "stream",
     "text": [
      "{0, 1}\n"
     ]
    }
   ],
   "source": [
    "n=int(input('enter value of n:'))\n",
    "s=set()\n",
    "for i in range(n):\n",
    "    num=i%2\n",
    "    s.add(num)\n",
    "\n",
    "print(s)\n",
    "        "
   ]
  },
  {
   "cell_type": "markdown",
   "id": "75b5a6b2",
   "metadata": {},
   "source": [
    "### 50. Merge multiple sets into one.\n"
   ]
  },
  {
   "cell_type": "code",
   "execution_count": 32,
   "id": "98fa6aba",
   "metadata": {},
   "outputs": [
    {
     "name": "stdout",
     "output_type": "stream",
     "text": [
      "{1, 2, 3, 4, 5, 6, 7}\n"
     ]
    }
   ],
   "source": [
    "s1={1,2,3}\n",
    "s2={3,4,5}\n",
    "s3={5,6,7}\n",
    "\n",
    "merged_set=s1.union(s2,s3)\n",
    "print(merged_set)"
   ]
  }
 ],
 "metadata": {
  "kernelspec": {
   "display_name": "base",
   "language": "python",
   "name": "python3"
  },
  "language_info": {
   "codemirror_mode": {
    "name": "ipython",
    "version": 3
   },
   "file_extension": ".py",
   "mimetype": "text/x-python",
   "name": "python",
   "nbconvert_exporter": "python",
   "pygments_lexer": "ipython3",
   "version": "3.11.5"
  },
  "vscode": {
   "interpreter": {
    "hash": "1f047710b4ea1724d3571a1e94150dad64c7ba7727ed3235cc280f2dc36538e8"
   }
  }
 },
 "nbformat": 4,
 "nbformat_minor": 5
}
