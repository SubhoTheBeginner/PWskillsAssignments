{
 "cells": [
  {
   "cell_type": "markdown",
   "id": "26ada568",
   "metadata": {},
   "source": [
    "PYTHON BASICS VARIABLE"
   ]
  },
  {
   "cell_type": "markdown",
   "id": "ab47ffd8",
   "metadata": {},
   "source": [
    "1. Declare two variables, `x` and `y`, and assign them integer values. Swap the\n",
    "values of these variables without using any temporary variable."
   ]
  },
  {
   "cell_type": "code",
   "execution_count": 1,
   "id": "c95abd82",
   "metadata": {},
   "outputs": [
    {
     "name": "stdout",
     "output_type": "stream",
     "text": [
      "before swap : x= 20 , y= 30\n",
      "after swap : x= 30 , y= 20\n"
     ]
    }
   ],
   "source": [
    "x=20\n",
    "y=30\n",
    "print('before swap : x=', x, ', y=',y )\n",
    "\n",
    "x=x+y #assigning the sum of x and y, in x\n",
    "y=x-y # x(20+30) - y, will assign 20 to y \n",
    "x=x-y # this will assign 30 to x\n",
    "\n",
    "print('after swap : x=', x, ', y=', y)"
   ]
  },
  {
   "cell_type": "markdown",
   "id": "b60527a7",
   "metadata": {},
   "source": [
    "2. Create a program that calculates the area of a rectangle. Take the length and\n",
    "width as inputs from the user and store them in variables. Calculate and\n",
    "display the area."
   ]
  },
  {
   "cell_type": "code",
   "execution_count": 2,
   "id": "aa59bcb6",
   "metadata": {},
   "outputs": [
    {
     "name": "stdout",
     "output_type": "stream",
     "text": [
      "Enter the length : 10\n",
      "Enter the width : 20\n",
      "Area of a rectangle with length  10.0 and width  20.0  is =  200.0\n"
     ]
    }
   ],
   "source": [
    "l= float(input(\"Enter the length : \")) # taking length input\n",
    "w=float(input(\"Enter the width : \")) #taking width input\n",
    "\n",
    "area = l * w # formula for area of a rectangle = length * width\n",
    "print('Area of a rectangle with length ', l, 'and width ', w, ' is = ',area)"
   ]
  },
  {
   "cell_type": "markdown",
   "id": "fd339d61",
   "metadata": {},
   "source": [
    "3. Write a Python program that converts temperatures from Celsius to\n",
    "Fahrenheit. Take the temperature in Celsius as input, store it in a variable,\n",
    "convert it to Fahrenheit, and display the result.\n"
   ]
  },
  {
   "cell_type": "code",
   "execution_count": 3,
   "id": "a1c4e01a",
   "metadata": {},
   "outputs": [
    {
     "name": "stdout",
     "output_type": "stream",
     "text": [
      "Enter the temperature in celsius : 40\n",
      "That Temperature in fahrenheit is :  104.0\n"
     ]
    }
   ],
   "source": [
    "c = float(input('Enter the temperature in celsius : ')) #taking input as celsius value\n",
    "\n",
    "f = (c * 9/5) + 32 #formula to convert celsius temp to fahrenheit temp\n",
    "print('That Temperature in fahrenheit is : ', f, )"
   ]
  },
  {
   "cell_type": "markdown",
   "id": "50982c17",
   "metadata": {},
   "source": [
    "STRING BASED QUESTIONS"
   ]
  },
  {
   "cell_type": "markdown",
   "id": "b0b4869f",
   "metadata": {},
   "source": [
    "1. Write a Python program that takes a string as input and prints the length of\n",
    "the string."
   ]
  },
  {
   "cell_type": "code",
   "execution_count": 4,
   "id": "1b6c090c",
   "metadata": {},
   "outputs": [
    {
     "name": "stdout",
     "output_type": "stream",
     "text": [
      "Enter a string : Subhodip Ghosh\n",
      "The length of the string is : 14\n"
     ]
    }
   ],
   "source": [
    "string = str(input('Enter a string : ')) #taking string input\n",
    "print('The length of the string is :', len(string)) # len() function prints the lenth of a given string"
   ]
  },
  {
   "cell_type": "markdown",
   "id": "68fc1d16",
   "metadata": {},
   "source": [
    "2. Create a program that takes a sentence from the user and counts the number\n",
    "of vowels (a, e, i, o, u) in the string."
   ]
  },
  {
   "cell_type": "code",
   "execution_count": 5,
   "id": "e2e8150c",
   "metadata": {},
   "outputs": [
    {
     "name": "stdout",
     "output_type": "stream",
     "text": [
      "Enter a sentence : This is my PWSkills Assignment NUMBER 1\n",
      "Numbers of vowels in this sentence is : 8\n"
     ]
    }
   ],
   "source": [
    "s = str(input(\"Enter a sentence : \"))\n",
    "v_count =0 #for counting vowels\n",
    "\n",
    "for i in s :\n",
    "    if(i=='a' or i=='e' or i=='i' or i=='o' or i=='u' or i=='A' or i=='E' or i=='I' or i=='O' or i=='U'):\n",
    "        v_count = v_count + 1  #increases the V-count value by 1, whenever previous condition fulfilled\n",
    "    \n",
    "print('Numbers of vowels in this sentence is :', v_count)"
   ]
  },
  {
   "cell_type": "markdown",
   "id": "ccc22cf3",
   "metadata": {},
   "source": [
    "3. Given a string, reverse the order of characters using string slicing and print\n",
    "the reversed string."
   ]
  },
  {
   "cell_type": "code",
   "execution_count": 6,
   "id": "0a8272c6",
   "metadata": {},
   "outputs": [
    {
     "name": "stdout",
     "output_type": "stream",
     "text": [
      "Enter a string :My name is Subhodip\n",
      "pidohbuS si eman yM\n"
     ]
    }
   ],
   "source": [
    "string = str(input(\"Enter a string :\"))\n",
    "\n",
    "reverse_string = string[::-1] #string slicing (backward)\n",
    "print(reverse_string)"
   ]
  },
  {
   "cell_type": "markdown",
   "id": "9c89b08b",
   "metadata": {},
   "source": [
    "4. Write a program that takes a string as input and checks if it is a palindrome\n",
    "(reads the same forwards and backwards)."
   ]
  },
  {
   "cell_type": "code",
   "execution_count": 7,
   "id": "ccc44ead",
   "metadata": {},
   "outputs": [
    {
     "name": "stdout",
     "output_type": "stream",
     "text": [
      "Enter a string :wow\n",
      "String is palindrome.\n"
     ]
    }
   ],
   "source": [
    "def is_palindrome(forward_string): #defining a function that checks if a string is palindrome or not.\n",
    "    if (forward_string == reverse_string): #checking both strings are equal or not\n",
    "        return(\"String is palindrome.\")\n",
    "    else:\n",
    "        return(\"String is not palindrome.\")\n",
    "    \n",
    "    \n",
    "forward_string = str(input(\"Enter a string :\"))\n",
    "reverse_string = forward_string[::-1] #reversing the string\n",
    "print(is_palindrome(forward_string)) # calling is_palindrome function to check "
   ]
  },
  {
   "cell_type": "markdown",
   "id": "f9961e28",
   "metadata": {},
   "source": [
    "5. Create a program that takes a string as input and removes all the spaces from\n",
    "it. Print the modified string without spaces."
   ]
  },
  {
   "cell_type": "code",
   "execution_count": 8,
   "id": "688f72f3",
   "metadata": {},
   "outputs": [
    {
     "name": "stdout",
     "output_type": "stream",
     "text": [
      "Enter a string :Fu ll Stac k  Da ta Science Pro\n",
      "FullStackDataSciencePro\n"
     ]
    }
   ],
   "source": [
    "actual_string= str(input('Enter a string :')) #string input\n",
    "modified_string= actual_string.replace(\" \",\"\") # removing \" \" with replace function, and storing it in another string\n",
    "\n",
    "print(modified_string)"
   ]
  }
 ],
 "metadata": {
  "kernelspec": {
   "display_name": "Python 3 (ipykernel)",
   "language": "python",
   "name": "python3"
  },
  "language_info": {
   "codemirror_mode": {
    "name": "ipython",
    "version": 3
   },
   "file_extension": ".py",
   "mimetype": "text/x-python",
   "name": "python",
   "nbconvert_exporter": "python",
   "pygments_lexer": "ipython3",
   "version": "3.11.4"
  }
 },
 "nbformat": 4,
 "nbformat_minor": 5
}
